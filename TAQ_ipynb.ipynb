{
 "cells": [
  {
   "cell_type": "markdown",
   "metadata": {},
   "source": [
    "# Example SciDB queries for trade and quote data\n",
    "\n",
    "This iPython Notebook replicates the work done by AFL queries at [this repo's main page](https://github.com/Paradigm4/TAQ/) in SciDB-py. \n",
    "\n",
    "The example queries here use example data obtained from Nyxdata. The example data file format specification is available from: http://www.nyxdata.com/doc/224904"
   ]
  },
  {
   "cell_type": "markdown",
   "metadata": {},
   "source": [
    "# Loading the data into ScIDB\n",
    "\n",
    "The `trades_load.sh` and `trades_redim.sh` scripts load the `EQY_US_ALL_TRADE_20131218.zip` data and redimension them into a `ms` (time) by `symbol_index` 2-d SciDB array. The script also creates an auxiliary mapping array named `tkr` between string ticker symbol and integer symbol index.\n",
    "\n",
    "The `quotes_load.sh` and `quotes_redim.sh` script does the same thing but for the `EQY_US_ALL_NBBO` quote data file.\n",
    "\n",
    "Run the following to load and redimension the example data"
   ]
  },
  {
   "cell_type": "code",
   "execution_count": null,
   "metadata": {
    "collapsed": false,
    "scrolled": false
   },
   "outputs": [],
   "source": [
    "import subprocess\n",
    "subprocess.call([\"./trades_load.sh\"])\n",
    "subprocess.call(\"./trades_redim.sh\")\n"
   ]
  },
  {
   "cell_type": "code",
   "execution_count": null,
   "metadata": {
    "collapsed": false
   },
   "outputs": [],
   "source": [
    "subprocess.call([\"./quotes_load.sh\", \"/tmp/EQY_US_ALL_NBBO_20131218.zip\",  \"1000000\"])\n",
    "subprocess.call(\"./quotes_redim.sh\")"
   ]
  },
  {
   "cell_type": "markdown",
   "metadata": {},
   "source": [
    "# Connecting to the database\n",
    "\n",
    "Then let's run some queries on the loaded trades and quote (TAQ) data from the comfort of SciDB-Py.\n",
    "First let us set up the connectivity to the database (and also import some useful libraries)"
   ]
  },
  {
   "cell_type": "code",
   "execution_count": 1,
   "metadata": {
    "collapsed": false
   },
   "outputs": [],
   "source": [
    "import matplotlib.pyplot as plt\n",
    "from scidbpy import connect\n",
    "import time\n",
    "sdb = connect(\"http://localhost:8080\")\n",
    "afl = sdb.afl"
   ]
  },
  {
   "cell_type": "markdown",
   "metadata": {},
   "source": [
    "Next, associate Python objects with SciDB arrays (no data transfers yet -- just connections)"
   ]
  },
  {
   "cell_type": "code",
   "execution_count": 2,
   "metadata": {
    "collapsed": false
   },
   "outputs": [],
   "source": [
    "trades = sdb.wrap_array('trades')\n",
    "quotes = sdb.wrap_array('quotes')\n",
    "tkr = sdb.wrap_array('tkr')"
   ]
  },
  {
   "cell_type": "markdown",
   "metadata": {},
   "source": [
    "An example lookup"
   ]
  },
  {
   "cell_type": "code",
   "execution_count": 3,
   "metadata": {
    "collapsed": false
   },
   "outputs": [
    {
     "data": {
      "text/html": [
       "<div>\n",
       "<table border=\"1\" class=\"dataframe\">\n",
       "  <thead>\n",
       "    <tr style=\"text-align: right;\">\n",
       "      <th></th>\n",
       "      <th></th>\n",
       "      <th>price</th>\n",
       "      <th>volume</th>\n",
       "      <th>sequence_number</th>\n",
       "      <th>condition</th>\n",
       "      <th>exchange</th>\n",
       "    </tr>\n",
       "    <tr>\n",
       "      <th>symbol_index</th>\n",
       "      <th>tm</th>\n",
       "      <th></th>\n",
       "      <th></th>\n",
       "      <th></th>\n",
       "      <th></th>\n",
       "      <th></th>\n",
       "    </tr>\n",
       "  </thead>\n",
       "  <tbody>\n",
       "    <tr>\n",
       "      <th rowspan=\"5\" valign=\"top\">0</th>\n",
       "      <th>34200011</th>\n",
       "      <td>56.5000</td>\n",
       "      <td>32051</td>\n",
       "      <td>2325</td>\n",
       "      <td>O</td>\n",
       "      <td>N</td>\n",
       "    </tr>\n",
       "    <tr>\n",
       "      <th>34201498</th>\n",
       "      <td>56.4100</td>\n",
       "      <td>30</td>\n",
       "      <td>2971</td>\n",
       "      <td>I</td>\n",
       "      <td>N</td>\n",
       "    </tr>\n",
       "    <tr>\n",
       "      <th>34207432</th>\n",
       "      <td>56.4025</td>\n",
       "      <td>100</td>\n",
       "      <td>3782</td>\n",
       "      <td>@</td>\n",
       "      <td>D</td>\n",
       "    </tr>\n",
       "    <tr>\n",
       "      <th>34207506</th>\n",
       "      <td>56.4100</td>\n",
       "      <td>100</td>\n",
       "      <td>3785</td>\n",
       "      <td>@</td>\n",
       "      <td>B</td>\n",
       "    </tr>\n",
       "    <tr>\n",
       "      <th>34210008</th>\n",
       "      <td>56.4800</td>\n",
       "      <td>100</td>\n",
       "      <td>4112</td>\n",
       "      <td>Q</td>\n",
       "      <td>P</td>\n",
       "    </tr>\n",
       "  </tbody>\n",
       "</table>\n",
       "</div>"
      ],
      "text/plain": [
       "                         price  volume  sequence_number condition exchange\n",
       "symbol_index tm                                                           \n",
       "0            34200011  56.5000   32051             2325         O        N\n",
       "             34201498  56.4100      30             2971         I        N\n",
       "             34207432  56.4025     100             3782         @        D\n",
       "             34207506  56.4100     100             3785         @        B\n",
       "             34210008  56.4800     100             4112         Q        P"
      ]
     },
     "execution_count": 3,
     "metadata": {},
     "output_type": "execute_result"
    }
   ],
   "source": [
    "trades.limit(5).todataframe() "
   ]
  },
  {
   "cell_type": "markdown",
   "metadata": {},
   "source": [
    "# SciDB array object\n",
    "\n",
    "Let's take a closer look at one of the SciDB array objects"
   ]
  },
  {
   "cell_type": "code",
   "execution_count": 4,
   "metadata": {
    "collapsed": false
   },
   "outputs": [
    {
     "data": {
      "text/plain": [
       "SciDBArray()"
      ]
     },
     "execution_count": 4,
     "metadata": {},
     "output_type": "execute_result"
    }
   ],
   "source": [
    "trades"
   ]
  },
  {
   "cell_type": "code",
   "execution_count": 5,
   "metadata": {
    "collapsed": false
   },
   "outputs": [
    {
     "data": {
      "text/plain": [
       "u'<price:double,volume:int64,sequence_number:int64,condition:string,exchange:string> [symbol_index=0:*,10,0,tm=0:86399999,86400000,0]'"
      ]
     },
     "execution_count": 5,
     "metadata": {},
     "output_type": "execute_result"
    }
   ],
   "source": [
    "trades.schema"
   ]
  },
  {
   "cell_type": "markdown",
   "metadata": {},
   "source": [
    "# Looking up trades by symbol string\n",
    "\n",
    "Join with the auxiliary `tkr` array to look up data by ticker symbol name. Here are some examples:\n"
   ]
  },
  {
   "cell_type": "code",
   "execution_count": 6,
   "metadata": {
    "collapsed": false,
    "scrolled": true
   },
   "outputs": [
    {
     "data": {
      "text/html": [
       "<div>\n",
       "<table border=\"1\" class=\"dataframe\">\n",
       "  <thead>\n",
       "    <tr style=\"text-align: right;\">\n",
       "      <th></th>\n",
       "      <th></th>\n",
       "      <th>price</th>\n",
       "      <th>volume</th>\n",
       "      <th>sequence_number</th>\n",
       "      <th>condition</th>\n",
       "      <th>exchange</th>\n",
       "      <th>symbol</th>\n",
       "    </tr>\n",
       "    <tr>\n",
       "      <th>symbol_index</th>\n",
       "      <th>tm</th>\n",
       "      <th></th>\n",
       "      <th></th>\n",
       "      <th></th>\n",
       "      <th></th>\n",
       "      <th></th>\n",
       "      <th></th>\n",
       "    </tr>\n",
       "  </thead>\n",
       "  <tbody>\n",
       "    <tr>\n",
       "      <th rowspan=\"5\" valign=\"top\">22</th>\n",
       "      <th>31135209</th>\n",
       "      <td>53.09</td>\n",
       "      <td>200</td>\n",
       "      <td>1600</td>\n",
       "      <td>FT</td>\n",
       "      <td>P</td>\n",
       "      <td>ABBV</td>\n",
       "    </tr>\n",
       "    <tr>\n",
       "      <th>31135210</th>\n",
       "      <td>53.07</td>\n",
       "      <td>500</td>\n",
       "      <td>1603</td>\n",
       "      <td>FT</td>\n",
       "      <td>P</td>\n",
       "      <td>ABBV</td>\n",
       "    </tr>\n",
       "    <tr>\n",
       "      <th>31135237</th>\n",
       "      <td>53.00</td>\n",
       "      <td>100</td>\n",
       "      <td>1605</td>\n",
       "      <td>FT</td>\n",
       "      <td>P</td>\n",
       "      <td>ABBV</td>\n",
       "    </tr>\n",
       "    <tr>\n",
       "      <th>31135258</th>\n",
       "      <td>53.63</td>\n",
       "      <td>20</td>\n",
       "      <td>1607</td>\n",
       "      <td>TI</td>\n",
       "      <td>K</td>\n",
       "      <td>ABBV</td>\n",
       "    </tr>\n",
       "    <tr>\n",
       "      <th>31135392</th>\n",
       "      <td>53.00</td>\n",
       "      <td>100</td>\n",
       "      <td>1609</td>\n",
       "      <td>T</td>\n",
       "      <td>Z</td>\n",
       "      <td>ABBV</td>\n",
       "    </tr>\n",
       "  </tbody>\n",
       "</table>\n",
       "</div>"
      ],
      "text/plain": [
       "                       price  volume  sequence_number condition exchange  \\\n",
       "symbol_index tm                                                            \n",
       "22           31135209  53.09     200             1600        FT        P   \n",
       "             31135210  53.07     500             1603        FT        P   \n",
       "             31135237  53.00     100             1605        FT        P   \n",
       "             31135258  53.63      20             1607        TI        K   \n",
       "             31135392  53.00     100             1609         T        Z   \n",
       "\n",
       "                      symbol  \n",
       "symbol_index tm               \n",
       "22           31135209   ABBV  \n",
       "             31135210   ABBV  \n",
       "             31135237   ABBV  \n",
       "             31135258   ABBV  \n",
       "             31135392   ABBV  "
      ]
     },
     "execution_count": 6,
     "metadata": {},
     "output_type": "execute_result"
    }
   ],
   "source": [
    "symbol = \"ABBV\"\n",
    "sdb.merge(trades,\n",
    "            tkr.filter(\"symbol='%s'\" % symbol)\n",
    "          ).limit(5).todataframe()\n"
   ]
  },
  {
   "cell_type": "markdown",
   "metadata": {},
   "source": [
    "# Computing VWAP\n",
    "\n",
    "Let's turn to another common kind of operation, computing volume-weighted average price (VWAP). We'll compute it for every instrument across their raw trade data in the array tades, and store the result into a new array called 'VWAP'."
   ]
  },
  {
   "cell_type": "code",
   "execution_count": 7,
   "metadata": {
    "collapsed": false,
    "scrolled": false
   },
   "outputs": [
    {
     "data": {
      "text/html": [
       "<div>\n",
       "<table border=\"1\" class=\"dataframe\">\n",
       "  <thead>\n",
       "    <tr style=\"text-align: right;\">\n",
       "      <th></th>\n",
       "      <th></th>\n",
       "      <th>numerator</th>\n",
       "      <th>denominator</th>\n",
       "      <th>vwap</th>\n",
       "      <th>symbol</th>\n",
       "    </tr>\n",
       "    <tr>\n",
       "      <th>symbol_index</th>\n",
       "      <th>tm</th>\n",
       "      <th></th>\n",
       "      <th></th>\n",
       "      <th></th>\n",
       "      <th></th>\n",
       "    </tr>\n",
       "  </thead>\n",
       "  <tbody>\n",
       "    <tr>\n",
       "      <th rowspan=\"5\" valign=\"top\">22</th>\n",
       "      <th>31135209</th>\n",
       "      <td>10618.0</td>\n",
       "      <td>200</td>\n",
       "      <td>53.090000</td>\n",
       "      <td>ABBV</td>\n",
       "    </tr>\n",
       "    <tr>\n",
       "      <th>31135210</th>\n",
       "      <td>37153.0</td>\n",
       "      <td>700</td>\n",
       "      <td>53.075714</td>\n",
       "      <td>ABBV</td>\n",
       "    </tr>\n",
       "    <tr>\n",
       "      <th>31135237</th>\n",
       "      <td>42453.0</td>\n",
       "      <td>800</td>\n",
       "      <td>53.066250</td>\n",
       "      <td>ABBV</td>\n",
       "    </tr>\n",
       "    <tr>\n",
       "      <th>31135258</th>\n",
       "      <td>43525.6</td>\n",
       "      <td>820</td>\n",
       "      <td>53.080000</td>\n",
       "      <td>ABBV</td>\n",
       "    </tr>\n",
       "    <tr>\n",
       "      <th>31135392</th>\n",
       "      <td>48825.6</td>\n",
       "      <td>920</td>\n",
       "      <td>53.071304</td>\n",
       "      <td>ABBV</td>\n",
       "    </tr>\n",
       "  </tbody>\n",
       "</table>\n",
       "</div>"
      ],
      "text/plain": [
       "                       numerator  denominator       vwap symbol\n",
       "symbol_index tm                                                \n",
       "22           31135209    10618.0          200  53.090000   ABBV\n",
       "             31135210    37153.0          700  53.075714   ABBV\n",
       "             31135237    42453.0          800  53.066250   ABBV\n",
       "             31135258    43525.6          820  53.080000   ABBV\n",
       "             31135392    48825.6          920  53.071304   ABBV"
      ]
     },
     "execution_count": 7,
     "metadata": {},
     "output_type": "execute_result"
    }
   ],
   "source": [
    "vwap = trades.apply('pv', 'price*volume')\n",
    "vwap = sdb.afl.cumulate(vwap, \\\n",
    "                        'sum(pv) as numerator', \\\n",
    "                        'sum(volume) as denominator', 'tm')\n",
    "vwap = vwap.apply('vwap', 'numerator/denominator')\n",
    "sdb.merge(vwap, tkr[tkr == 'ABBV']).\\\n",
    "    limit(5).\\\n",
    "    todataframe()"
   ]
  },
  {
   "cell_type": "markdown",
   "metadata": {},
   "source": [
    "# Lazy evaluation\n",
    "\n",
    "What does the `vwap` variable store?"
   ]
  },
  {
   "cell_type": "code",
   "execution_count": 8,
   "metadata": {
    "collapsed": false
   },
   "outputs": [
    {
     "data": {
      "text/plain": [
       "SciDBArray()"
      ]
     },
     "execution_count": 8,
     "metadata": {},
     "output_type": "execute_result"
    }
   ],
   "source": [
    "vwap"
   ]
  },
  {
   "cell_type": "code",
   "execution_count": 9,
   "metadata": {
    "collapsed": false,
    "scrolled": true
   },
   "outputs": [
    {
     "data": {
      "text/plain": [
       "u'apply(cumulate(apply(trades,pv,price*volume),sum(pv) as numerator,sum(volume) as denominator,tm),vwap,numerator/denominator)'"
      ]
     },
     "execution_count": 9,
     "metadata": {},
     "output_type": "execute_result"
    }
   ],
   "source": [
    "vwap.query"
   ]
  },
  {
   "cell_type": "markdown",
   "metadata": {},
   "source": [
    "## Why is this important?\n",
    "\n",
    "Number of quotes: 93 M\n",
    "\n",
    "Number of trades: 22 M"
   ]
  },
  {
   "cell_type": "markdown",
   "metadata": {},
   "source": [
    "# Computing minute bars"
   ]
  },
  {
   "cell_type": "code",
   "execution_count": 10,
   "metadata": {
    "collapsed": false,
    "scrolled": true
   },
   "outputs": [
    {
     "data": {
      "text/html": [
       "<div>\n",
       "<table border=\"1\" class=\"dataframe\">\n",
       "  <thead>\n",
       "    <tr style=\"text-align: right;\">\n",
       "      <th></th>\n",
       "      <th></th>\n",
       "      <th>open</th>\n",
       "      <th>high</th>\n",
       "      <th>low</th>\n",
       "      <th>close</th>\n",
       "      <th>symbol</th>\n",
       "    </tr>\n",
       "    <tr>\n",
       "      <th>symbol_index</th>\n",
       "      <th>tm</th>\n",
       "      <th></th>\n",
       "      <th></th>\n",
       "      <th></th>\n",
       "      <th></th>\n",
       "      <th></th>\n",
       "    </tr>\n",
       "  </thead>\n",
       "  <tbody>\n",
       "    <tr>\n",
       "      <th rowspan=\"5\" valign=\"top\">22</th>\n",
       "      <th>558</th>\n",
       "      <td>52.60</td>\n",
       "      <td>52.60</td>\n",
       "      <td>52.57</td>\n",
       "      <td>52.57</td>\n",
       "      <td>ABBV</td>\n",
       "    </tr>\n",
       "    <tr>\n",
       "      <th>562</th>\n",
       "      <td>52.54</td>\n",
       "      <td>52.60</td>\n",
       "      <td>52.54</td>\n",
       "      <td>52.60</td>\n",
       "      <td>ABBV</td>\n",
       "    </tr>\n",
       "    <tr>\n",
       "      <th>564</th>\n",
       "      <td>52.60</td>\n",
       "      <td>52.60</td>\n",
       "      <td>52.47</td>\n",
       "      <td>52.47</td>\n",
       "      <td>ABBV</td>\n",
       "    </tr>\n",
       "    <tr>\n",
       "      <th>565</th>\n",
       "      <td>52.60</td>\n",
       "      <td>52.75</td>\n",
       "      <td>52.47</td>\n",
       "      <td>52.56</td>\n",
       "      <td>ABBV</td>\n",
       "    </tr>\n",
       "    <tr>\n",
       "      <th>567</th>\n",
       "      <td>52.85</td>\n",
       "      <td>52.85</td>\n",
       "      <td>52.60</td>\n",
       "      <td>52.70</td>\n",
       "      <td>ABBV</td>\n",
       "    </tr>\n",
       "  </tbody>\n",
       "</table>\n",
       "</div>"
      ],
      "text/plain": [
       "                   open   high    low  close symbol\n",
       "symbol_index tm                                    \n",
       "22           558  52.60  52.60  52.57  52.57   ABBV\n",
       "             562  52.54  52.60  52.54  52.60   ABBV\n",
       "             564  52.60  52.60  52.47  52.47   ABBV\n",
       "             565  52.60  52.75  52.47  52.56   ABBV\n",
       "             567  52.85  52.85  52.60  52.70   ABBV"
      ]
     },
     "execution_count": 10,
     "metadata": {},
     "output_type": "execute_result"
    }
   ],
   "source": [
    "minute_bars = trades.apply('timeprice', 'tuple(tm,price)')\n",
    "minute_bars = sdb.afl.regrid(minute_bars, 1, 60000,\n",
    "            'axial_first(timeprice) as open',\n",
    "            'max(price) as high',\n",
    "            'min(price) as low',\n",
    "            'axial_last(timeprice) as close'\n",
    "          )\n",
    "minute_bars = minute_bars.eval()\n",
    "\n",
    "sdb.merge(minute_bars, tkr[tkr == 'ABBV']).\\\n",
    "    limit(20).\\\n",
    "    todataframe().tail()"
   ]
  },
  {
   "cell_type": "markdown",
   "metadata": {},
   "source": [
    "Let's pull out one of these minute bar time series for a particuar stock, ABBV. We can consult the symbols array to find it's index directly.\n",
    "\n",
    "Note! That 570 minutes = 9:30 AM."
   ]
  },
  {
   "cell_type": "code",
   "execution_count": 11,
   "metadata": {
    "collapsed": false,
    "scrolled": true
   },
   "outputs": [],
   "source": [
    "mb1 = sdb.merge(minute_bars, \n",
    "                tkr[tkr == symbol]).todataframe()"
   ]
  },
  {
   "cell_type": "code",
   "execution_count": 12,
   "metadata": {
    "collapsed": false,
    "scrolled": false
   },
   "outputs": [
    {
     "data": {
      "image/png": "[encoded data removed]",
      "text/plain": [
       "<matplotlib.figure.Figure at 0x7f8701ff8f50>"
      ]
     },
     "metadata": {},
     "output_type": "display_data"
    }
   ],
   "source": [
    "%matplotlib inline\n",
    "import matplotlib.pyplot as plt\n",
    "from matplotlib.finance import candlestick_ohlc\n",
    "\n",
    "# Split the dimensions to get the minute co-ordinates\n",
    "l1, l2 = zip(*mb1.index.get_values())\n",
    "# unify into a nparray of tuples for use in candlestick graph\n",
    "q2 = zip(l2, mb1.open, mb1.high, mb1.low, mb1.close)\n",
    "\n",
    "fig, ax = plt.subplots()\n",
    "fig.subplots_adjust(bottom=0.2)\n",
    "fig.suptitle('Minute bars (OHLC): Symbol \\'ABBV\\' ', fontsize=14, fontweight='bold')\n",
    "ax.set_xlabel('minutes')\n",
    "ax.set_ylabel('$')\n",
    "\n",
    "candlestick_ohlc(ax, q2[15:30], width=0.6)\n",
    "\n",
    "ax.autoscale_view()\n",
    "plt.setp(plt.gca().get_xticklabels(), rotation=45, horizontalalignment='right')\n",
    "\n",
    "plt.show()"
   ]
  },
  {
   "cell_type": "markdown",
   "metadata": {},
   "source": [
    "# MVCC\n",
    "\n",
    "How does the SciDB-Py library support MVCC"
   ]
  },
  {
   "cell_type": "code",
   "execution_count": 16,
   "metadata": {
    "collapsed": false
   },
   "outputs": [
    {
     "data": {
      "text/plain": [
       "u'py1459869121036078015_00035'"
      ]
     },
     "execution_count": 16,
     "metadata": {},
     "output_type": "execute_result"
    }
   ],
   "source": [
    "minute_bars.name"
   ]
  },
  {
   "cell_type": "markdown",
   "metadata": {},
   "source": [
    "# AsOf join\n",
    "\n",
    "The `asof` operator joins trade data with quote data. At time points where quote data is not available, the last known value is looked up and filled in. This is sometimes also called a 'last value carry forward' join or 'piecewise constant interpolation join'.\n",
    "\n",
    "The syntax is:\n",
    "```\n",
    "asof(A, B [, aggrDim [, missingCode]])\n",
    "```\n",
    "\n",
    "where the inputs are:\n",
    "- `A & B`: two arrays that have the same dimensionality;\n",
    "- `aggrDim`: the dimension in A along which to find last_value. Default is the last dimension.\n",
    "- `missingCode`: the missing code to use, when an A record cannot be found. Default is 0.\n",
    "\n",
    "Here is an example that joins trades and quotes for all symbols. "
   ]
  },
  {
   "cell_type": "markdown",
   "metadata": {},
   "source": [
    "Next we run the `asof` join and make some simple checks:"
   ]
  },
  {
   "cell_type": "code",
   "execution_count": 13,
   "metadata": {
    "collapsed": false
   },
   "outputs": [],
   "source": [
    "asof1 = quotes.asof(trades)\n",
    "asof1 = asof1.eval()"
   ]
  },
  {
   "cell_type": "code",
   "execution_count": 14,
   "metadata": {
    "collapsed": false,
    "scrolled": false
   },
   "outputs": [
    {
     "name": "stdout",
     "output_type": "stream",
     "text": [
      "\n",
      "# of elements in the joined result:\n",
      "333421\n",
      "\n",
      "The head() of the joined array\n"
     ]
    },
    {
     "data": {
      "text/html": [
       "<div>\n",
       "<table border=\"1\" class=\"dataframe\">\n",
       "  <thead>\n",
       "    <tr style=\"text-align: right;\">\n",
       "      <th></th>\n",
       "      <th></th>\n",
       "      <th>ask_price</th>\n",
       "      <th>ask_size</th>\n",
       "      <th>bid_price</th>\n",
       "      <th>bid_size</th>\n",
       "      <th>price</th>\n",
       "      <th>volume</th>\n",
       "      <th>symbol</th>\n",
       "    </tr>\n",
       "    <tr>\n",
       "      <th>symbol_index</th>\n",
       "      <th>tm</th>\n",
       "      <th></th>\n",
       "      <th></th>\n",
       "      <th></th>\n",
       "      <th></th>\n",
       "      <th></th>\n",
       "      <th></th>\n",
       "      <th></th>\n",
       "    </tr>\n",
       "  </thead>\n",
       "  <tbody>\n",
       "    <tr>\n",
       "      <th rowspan=\"5\" valign=\"top\">22</th>\n",
       "      <th>32378898</th>\n",
       "      <td>52.75</td>\n",
       "      <td>1</td>\n",
       "      <td>52.35</td>\n",
       "      <td>1</td>\n",
       "      <td>52.60</td>\n",
       "      <td>100</td>\n",
       "      <td>ABBV</td>\n",
       "    </tr>\n",
       "    <tr>\n",
       "      <th>32428622</th>\n",
       "      <td>52.65</td>\n",
       "      <td>5</td>\n",
       "      <td>42.50</td>\n",
       "      <td>1</td>\n",
       "      <td>52.40</td>\n",
       "      <td>100</td>\n",
       "      <td>ABBV</td>\n",
       "    </tr>\n",
       "    <tr>\n",
       "      <th>32441870</th>\n",
       "      <td>52.75</td>\n",
       "      <td>1</td>\n",
       "      <td>52.25</td>\n",
       "      <td>1</td>\n",
       "      <td>52.35</td>\n",
       "      <td>100</td>\n",
       "      <td>ABBV</td>\n",
       "    </tr>\n",
       "    <tr>\n",
       "      <th>32859621</th>\n",
       "      <td>52.50</td>\n",
       "      <td>1</td>\n",
       "      <td>52.40</td>\n",
       "      <td>10</td>\n",
       "      <td>52.43</td>\n",
       "      <td>100</td>\n",
       "      <td>ABBV</td>\n",
       "    </tr>\n",
       "    <tr>\n",
       "      <th>32885209</th>\n",
       "      <td>52.50</td>\n",
       "      <td>1</td>\n",
       "      <td>52.40</td>\n",
       "      <td>10</td>\n",
       "      <td>52.42</td>\n",
       "      <td>300</td>\n",
       "      <td>ABBV</td>\n",
       "    </tr>\n",
       "  </tbody>\n",
       "</table>\n",
       "</div>"
      ],
      "text/plain": [
       "                       ask_price  ask_size  bid_price  bid_size  price  \\\n",
       "symbol_index tm                                                          \n",
       "22           32378898      52.75         1      52.35         1  52.60   \n",
       "             32428622      52.65         5      42.50         1  52.40   \n",
       "             32441870      52.75         1      52.25         1  52.35   \n",
       "             32859621      52.50         1      52.40        10  52.43   \n",
       "             32885209      52.50         1      52.40        10  52.42   \n",
       "\n",
       "                       volume symbol  \n",
       "symbol_index tm                       \n",
       "22           32378898     100   ABBV  \n",
       "             32428622     100   ABBV  \n",
       "             32441870     100   ABBV  \n",
       "             32859621     100   ABBV  \n",
       "             32885209     300   ABBV  "
      ]
     },
     "execution_count": 14,
     "metadata": {},
     "output_type": "execute_result"
    }
   ],
   "source": [
    "print('\\n# of elements in the joined result:')\n",
    "print(asof1.nonempty())\n",
    "print('\\nThe head() of the joined array')\n",
    "sdb.merge(asof1.project('ask_price', 'ask_size', 'bid_price', 'bid_size', 'price', 'volume'), tkr[tkr == 'ABBV']).\\\n",
    "    limit(20).\\\n",
    "    todataframe().tail()"
   ]
  },
  {
   "cell_type": "markdown",
   "metadata": {},
   "source": [
    "# RegNMS (Compliance)\n",
    "\n",
    "Smart analytics that can now be run:\n",
    "\n",
    " - Find the inconsistent quotes"
   ]
  },
  {
   "cell_type": "code",
   "execution_count": 15,
   "metadata": {
    "collapsed": false
   },
   "outputs": [
    {
     "data": {
      "text/html": [
       "<div>\n",
       "<table border=\"1\" class=\"dataframe\">\n",
       "  <thead>\n",
       "    <tr style=\"text-align: right;\">\n",
       "      <th></th>\n",
       "      <th></th>\n",
       "      <th>ask_price</th>\n",
       "      <th>ask_size</th>\n",
       "      <th>bid_price</th>\n",
       "      <th>bid_size</th>\n",
       "      <th>price</th>\n",
       "      <th>volume</th>\n",
       "      <th>symbol</th>\n",
       "    </tr>\n",
       "    <tr>\n",
       "      <th>symbol_index</th>\n",
       "      <th>tm</th>\n",
       "      <th></th>\n",
       "      <th></th>\n",
       "      <th></th>\n",
       "      <th></th>\n",
       "      <th></th>\n",
       "      <th></th>\n",
       "      <th></th>\n",
       "    </tr>\n",
       "  </thead>\n",
       "  <tbody>\n",
       "    <tr>\n",
       "      <th rowspan=\"5\" valign=\"top\">22</th>\n",
       "      <th>34410408</th>\n",
       "      <td>0.0</td>\n",
       "      <td>0</td>\n",
       "      <td>52.51</td>\n",
       "      <td>2</td>\n",
       "      <td>52.5800</td>\n",
       "      <td>200</td>\n",
       "      <td>ABBV</td>\n",
       "    </tr>\n",
       "    <tr>\n",
       "      <th>42275147</th>\n",
       "      <td>0.0</td>\n",
       "      <td>0</td>\n",
       "      <td>52.55</td>\n",
       "      <td>1</td>\n",
       "      <td>52.6000</td>\n",
       "      <td>100</td>\n",
       "      <td>ABBV</td>\n",
       "    </tr>\n",
       "    <tr>\n",
       "      <th>43439844</th>\n",
       "      <td>0.0</td>\n",
       "      <td>0</td>\n",
       "      <td>52.70</td>\n",
       "      <td>2</td>\n",
       "      <td>52.7000</td>\n",
       "      <td>200</td>\n",
       "      <td>ABBV</td>\n",
       "    </tr>\n",
       "    <tr>\n",
       "      <th>47035045</th>\n",
       "      <td>0.0</td>\n",
       "      <td>0</td>\n",
       "      <td>52.95</td>\n",
       "      <td>2</td>\n",
       "      <td>52.9599</td>\n",
       "      <td>50</td>\n",
       "      <td>ABBV</td>\n",
       "    </tr>\n",
       "    <tr>\n",
       "      <th>50379525</th>\n",
       "      <td>0.0</td>\n",
       "      <td>0</td>\n",
       "      <td>53.15</td>\n",
       "      <td>3</td>\n",
       "      <td>53.1800</td>\n",
       "      <td>23</td>\n",
       "      <td>ABBV</td>\n",
       "    </tr>\n",
       "  </tbody>\n",
       "</table>\n",
       "</div>"
      ],
      "text/plain": [
       "                       ask_price  ask_size  bid_price  bid_size    price  \\\n",
       "symbol_index tm                                                            \n",
       "22           34410408        0.0         0      52.51         2  52.5800   \n",
       "             42275147        0.0         0      52.55         1  52.6000   \n",
       "             43439844        0.0         0      52.70         2  52.7000   \n",
       "             47035045        0.0         0      52.95         2  52.9599   \n",
       "             50379525        0.0         0      53.15         3  53.1800   \n",
       "\n",
       "                       volume symbol  \n",
       "symbol_index tm                       \n",
       "22           34410408     200   ABBV  \n",
       "             42275147     100   ABBV  \n",
       "             43439844     200   ABBV  \n",
       "             47035045      50   ABBV  \n",
       "             50379525      23   ABBV  "
      ]
     },
     "execution_count": 15,
     "metadata": {},
     "output_type": "execute_result"
    }
   ],
   "source": [
    "sdb.merge(asof1.filter('ask_price < bid_price').\\\n",
    "          project('ask_price', 'ask_size', 'bid_price', 'bid_size', 'price', 'volume'), \\\n",
    "          tkr[tkr=='ABBV']).\\\n",
    "    limit(5).\\\n",
    "    todataframe()"
   ]
  }
 ],
 "metadata": {
  "kernelspec": {
   "display_name": "Python 2",
   "language": "python",
   "name": "python2"
  },
  "language_info": {
   "codemirror_mode": {
    "name": "ipython",
    "version": 2
   },
   "file_extension": ".py",
   "mimetype": "text/x-python",
   "name": "python",
   "nbconvert_exporter": "python",
   "pygments_lexer": "ipython2",
   "version": "2.7.11"
  }
 },
 "nbformat": 4,
 "nbformat_minor": 0
}
