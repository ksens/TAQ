{
 "cells": [
  {
   "cell_type": "markdown",
   "metadata": {},
   "source": [
    "# Example SciDB queries for trade and quote data\n",
    "\n",
    "This iPython Notebook achieves the following:\n",
    " - Loading NYSE market data\n",
    " - Bar building (open high low close)\n",
    " - Building minute bars\n",
    " - Calculating VWAP\n",
    " - As-Of join\n",
    " - Running ad-hoc queries (e.g. checking for Regulation NMS/Compliance)\n",
    "\n",
    "The most updated version of this code is maintained at https://github.com/Paradigm4/TAQ"
   ]
  },
  {
   "cell_type": "markdown",
   "metadata": {},
   "source": [
    "# Download the data\n",
    "\n",
    " - This notebook uses NYSE market made available from http://www.nyxdata.com/ \n",
    " - The data file format specification is available from: http://www.nyxdata.com/doc/224904\n",
    " - The data license governs that we cannot redistribute the data as part of this AMI. Hence the first step is to download the data via FTP. \n",
    " - Download speed vary. \n",
    "     - You can hit `play` on the two cells below one after the other, they will execute sequentially\n",
    "     - The ETA for the first file (`quotes`) will be printed soon after you start the download\n",
    "     - The second file (`trades`) is ~1/7-th the size, hence download is that much faster\n",
    "\n",
    "## A few minutes for the download...\n",
    " - We wanted to show SciDB operations on real market data... just a few minutes till the download completes (the `wget` command will print the ETA)\n",
    " - We will start with analysis using SciDB right after\n",
    " - Till that time, you can read and view the prestored results of subsequent cells.\n"
   ]
  },
  {
   "cell_type": "code",
   "execution_count": 1,
   "metadata": {
    "collapsed": false,
    "scrolled": true
   },
   "outputs": [
    {
     "name": "stdout",
     "output_type": "stream",
     "text": [
      "--2016-04-11 21:25:22--  ftp://ftp.nyxdata.com/Historical%20Data%20Samples/Daily%20TAQ/EQY_US_ALL_NBBO_20131218.zip\n",
      "           => ‘/tmp/EQY_US_ALL_NBBO_20131218.zip’\n",
      "Resolving ftp.nyxdata.com (ftp.nyxdata.com)... 159.125.78.28\n",
      "Connecting to ftp.nyxdata.com (ftp.nyxdata.com)|159.125.78.28|:21... connected.\n",
      "Logging in as anonymous ... Logged in!\n",
      "==> SYST ... done.    ==> PWD ... done.\n",
      "==> TYPE I ... done.  ==> CWD (1) /Historical Data Samples/Daily TAQ ... done.\n",
      "==> SIZE EQY_US_ALL_NBBO_20131218.zip ... 2113968509\n",
      "==> PASV ... done.    ==> RETR EQY_US_ALL_NBBO_20131218.zip ... done.\n",
      "Length: 2113968509 (2.0G) (unauthoritative)\n",
      "\n",
      "100%[====================================>] 2,113,968,509 3.64MB/s   in 10m 2s \n",
      "\n",
      "2016-04-11 21:35:24 (3.35 MB/s) - ‘/tmp/EQY_US_ALL_NBBO_20131218.zip’ saved [2113968509]\n",
      "\n"
     ]
    }
   ],
   "source": [
    "!wget ftp://ftp.nyxdata.com/Historical%20Data%20Samples/Daily%20TAQ/EQY_US_ALL_NBBO_20131218.zip \\\n",
    "    --directory-prefix=/tmp   "
   ]
  },
  {
   "cell_type": "code",
   "execution_count": 2,
   "metadata": {
    "collapsed": false
   },
   "outputs": [
    {
     "name": "stdout",
     "output_type": "stream",
     "text": [
      "--2016-04-11 21:35:25--  ftp://ftp.nyxdata.com/Historical%20Data%20Samples/Daily%20TAQ/EQY_US_ALL_TRADE_20131218.zip\n",
      "           => ‘/tmp/EQY_US_ALL_TRADE_20131218.zip’\n",
      "Resolving ftp.nyxdata.com (ftp.nyxdata.com)... 159.125.78.28\n",
      "Connecting to ftp.nyxdata.com (ftp.nyxdata.com)|159.125.78.28|:21... connected.\n",
      "Logging in as anonymous ... Logged in!\n",
      "==> SYST ... done.    ==> PWD ... done.\n",
      "==> TYPE I ... done.  ==> CWD (1) /Historical Data Samples/Daily TAQ ... done.\n",
      "==> SIZE EQY_US_ALL_TRADE_20131218.zip ... 312753367\n",
      "==> PASV ... done.    ==> RETR EQY_US_ALL_TRADE_20131218.zip ... done.\n",
      "Length: 312753367 (298M) (unauthoritative)\n",
      "\n",
      "100%[======================================>] 312,753,367 3.98MB/s   in 75s    \n",
      "\n",
      "2016-04-11 21:36:40 (3.95 MB/s) - ‘/tmp/EQY_US_ALL_TRADE_20131218.zip’ saved [312753367]\n",
      "\n"
     ]
    }
   ],
   "source": [
    "!wget ftp://ftp.nyxdata.com/Historical%20Data%20Samples/Daily%20TAQ/EQY_US_ALL_TRADE_20131218.zip \\\n",
    "    --directory-prefix=/tmp   "
   ]
  },
  {
   "cell_type": "markdown",
   "metadata": {},
   "source": [
    "# Loading the data into ScIDB\n",
    "\n",
    "The `trades_load.sh` and `trades_redim.sh` scripts load the `EQY_US_ALL_TRADE_20131218.zip` data and redimensions it into a `ms` (time) by `symbol_index` by `synthetic` 3-d SciDB array. \n",
    "\n",
    "The script also creates an auxiliary mapping array named `tkr` between string ticker symbol and integer symbol index.\n",
    "\n",
    "The `quotes_load.sh` and `quotes_redim.sh` script does the same thing but for the `EQY_US_ALL_NBBO` quote data file.\n",
    "\n",
    "## Note on loaders\n",
    "\n",
    "The loaders shown above use the most generic loaders available in SciDB community edition. SciDB can achieve much higher load rates using Enterprise edition plugins.  \n",
    "\n",
    "## Steps to load `trades` data\n",
    "\n",
    " - Run the following to load and redimension the example data\n",
    " - For a first run, we load the first 500k elements of the `trades` data. \n",
    " - Later, we suggest that you let the entire load run (by commenting / uncommenting the appropriate line below)"
   ]
  },
  {
   "cell_type": "code",
   "execution_count": 3,
   "metadata": {
    "collapsed": false,
    "scrolled": true
   },
   "outputs": [
    {
     "name": "stdout",
     "output_type": "stream",
     "text": [
      "Query was executed successfully\n",
      "Query was executed successfully\n",
      "Query was executed successfully\n",
      "Query was executed successfully\n",
      "\n",
      "Query was executed successfully\n",
      "{i} count\n",
      "{0} 39\n",
      "Query was executed successfully\n",
      "Query was executed successfully\n",
      "\n"
     ]
    }
   ],
   "source": [
    "import subprocess\n",
    "proc = subprocess.Popen([\"./trades_load.sh\", \"/tmp/EQY_US_ALL_TRADE_20131218.zip\", \"500000\"], stdout=subprocess.PIPE)\n",
    "# proc = subprocess.Popen(\"./trades_load.sh\", stdout=subprocess.PIPE)\n",
    "output1 = proc.stdout.read()\n",
    "proc = subprocess.Popen(\"./trades_redim.sh\", stdout=subprocess.PIPE)\n",
    "output2 = proc.stdout.read()\n",
    "print(output1 + '\\n' + output2)"
   ]
  },
  {
   "cell_type": "markdown",
   "metadata": {},
   "source": [
    "## Steps to load `quotes` data\n",
    "\n",
    " - Again, for a first run, we load the first 1M elements of the `quotes` data\n",
    " - Later, we suggest that you load the entire `quotes` data (by commenting / uncommenting the appropriate line below)\n",
    "     - ETA: 10 minutes for loading entire day"
   ]
  },
  {
   "cell_type": "code",
   "execution_count": 4,
   "metadata": {
    "collapsed": false
   },
   "outputs": [
    {
     "name": "stdout",
     "output_type": "stream",
     "text": [
      "Query was executed successfully\n",
      "Query was executed successfully\n",
      "Query was executed successfully\n",
      "\n",
      "Query was executed successfully\n",
      "Query was executed successfully\n",
      "\n"
     ]
    }
   ],
   "source": [
    "proc = subprocess.Popen([\"./quotes_load.sh\", \"/tmp/EQY_US_ALL_NBBO_20131218.zip\",  \"1000000\"], stdout=subprocess.PIPE)\n",
    "# proc = subprocess.Popen(\"./quotes_load.sh\", stdout=subprocess.PIPE)\n",
    "output1 = proc.stdout.read()\n",
    "proc = subprocess.Popen(\"./quotes_redim.sh\", stdout=subprocess.PIPE)\n",
    "output2 = proc.stdout.read()\n",
    "print(output1 + '\\n' + output2)"
   ]
  },
  {
   "cell_type": "markdown",
   "metadata": {},
   "source": [
    "# Connecting to the database\n",
    "\n",
    "Then let's run some queries on the loaded trades and quote (TAQ) data directly from the Python interface.\n",
    "First let us set up the connectivity to the database (and also import some useful libraries)"
   ]
  },
  {
   "cell_type": "code",
   "execution_count": 5,
   "metadata": {
    "collapsed": false
   },
   "outputs": [],
   "source": [
    "import matplotlib.pyplot as plt\n",
    "from scidbpy import connect\n",
    "import time\n",
    "sdb = connect(\"http://localhost:8080\")\n",
    "afl = sdb.afl"
   ]
  },
  {
   "cell_type": "markdown",
   "metadata": {},
   "source": [
    "Next, associate Python objects with SciDB arrays (no data transfers yet -- just connections)"
   ]
  },
  {
   "cell_type": "code",
   "execution_count": 6,
   "metadata": {
    "collapsed": false
   },
   "outputs": [],
   "source": [
    "trades = sdb.wrap_array('trades')\n",
    "quotes = sdb.wrap_array('quotes')\n",
    "tkr = sdb.wrap_array('tkr')"
   ]
  },
  {
   "cell_type": "markdown",
   "metadata": {},
   "source": [
    "An example lookup"
   ]
  },
  {
   "cell_type": "code",
   "execution_count": 7,
   "metadata": {
    "collapsed": false
   },
   "outputs": [
    {
     "name": "stdout",
     "output_type": "stream",
     "text": [
      "loaded library: limit\n"
     ]
    },
    {
     "data": {
      "text/html": [
       "<div>\n",
       "<table border=\"1\" class=\"dataframe\">\n",
       "  <thead>\n",
       "    <tr style=\"text-align: right;\">\n",
       "      <th></th>\n",
       "      <th>symbol</th>\n",
       "    </tr>\n",
       "    <tr>\n",
       "      <th>symbol_index</th>\n",
       "      <th></th>\n",
       "    </tr>\n",
       "  </thead>\n",
       "  <tbody>\n",
       "    <tr>\n",
       "      <th>0</th>\n",
       "      <td>A</td>\n",
       "    </tr>\n",
       "    <tr>\n",
       "      <th>1</th>\n",
       "      <td>AA</td>\n",
       "    </tr>\n",
       "    <tr>\n",
       "      <th>2</th>\n",
       "      <td>AA    PR</td>\n",
       "    </tr>\n",
       "    <tr>\n",
       "      <th>3</th>\n",
       "      <td>AADR</td>\n",
       "    </tr>\n",
       "    <tr>\n",
       "      <th>4</th>\n",
       "      <td>AAIT</td>\n",
       "    </tr>\n",
       "  </tbody>\n",
       "</table>\n",
       "</div>"
      ],
      "text/plain": [
       "                symbol\n",
       "symbol_index          \n",
       "0                    A\n",
       "1                   AA\n",
       "2             AA    PR\n",
       "3                 AADR\n",
       "4                 AAIT"
      ]
     },
     "execution_count": 7,
     "metadata": {},
     "output_type": "execute_result"
    }
   ],
   "source": [
    "if subprocess.call([\"/opt/scidb/15.12/bin/iquery\", \"-aq\", \"load_library('limit')\"]) == 0:\n",
    "    print('loaded library: limit')\n",
    "else:\n",
    "    print('''requires user to install the `limit` library. \n",
    "            See https://github.com/Paradigm4/limit. \n",
    "            Otherwise, use the slower version: tkr.todataframe().head()''')\n",
    "tkr.limit(5).todataframe() "
   ]
  },
  {
   "cell_type": "markdown",
   "metadata": {},
   "source": [
    "# Looking up trades by symbol string\n",
    "\n",
    "Join with the auxiliary `tkr` array to look up data by ticker symbol name. Here are examples that count the number of trades and quotes for 'ABBV'.\n"
   ]
  },
  {
   "cell_type": "code",
   "execution_count": 8,
   "metadata": {
    "collapsed": false
   },
   "outputs": [
    {
     "name": "stdout",
     "output_type": "stream",
     "text": [
      "56545 trades for ABBV \n",
      "89867 quotes for ABBV \n"
     ]
    }
   ],
   "source": [
    "symbol = \"ABBV\"\n",
    "print(\"%d trades for %s \" % (sdb.merge(trades,\n",
    "            tkr.filter(\"symbol='%s'\" % symbol)\n",
    "          ).nonempty(), symbol))\n",
    "print(\"%d quotes for %s \" % (sdb.merge(quotes,\n",
    "            tkr.filter(\"symbol='%s'\" % symbol)\n",
    "          ).nonempty(), symbol))"
   ]
  },
  {
   "cell_type": "markdown",
   "metadata": {},
   "source": [
    "As expected we see more quotes than trades for this instrument. \n",
    "\n",
    "The above join showed us that there are 56545 trades for the ticker `ABBV`. We can also retrieve those trades using the `between` statement, but we need to know the `symbol_index`, which we find by:"
   ]
  },
  {
   "cell_type": "code",
   "execution_count": 9,
   "metadata": {
    "collapsed": false
   },
   "outputs": [
    {
     "data": {
      "text/html": [
       "<div>\n",
       "<table border=\"1\" class=\"dataframe\">\n",
       "  <thead>\n",
       "    <tr style=\"text-align: right;\">\n",
       "      <th></th>\n",
       "      <th>symbol</th>\n",
       "    </tr>\n",
       "    <tr>\n",
       "      <th>symbol_index</th>\n",
       "      <th></th>\n",
       "    </tr>\n",
       "  </thead>\n",
       "  <tbody>\n",
       "    <tr>\n",
       "      <th>22</th>\n",
       "      <td>ABBV</td>\n",
       "    </tr>\n",
       "  </tbody>\n",
       "</table>\n",
       "</div>"
      ],
      "text/plain": [
       "             symbol\n",
       "symbol_index       \n",
       "22             ABBV"
      ]
     },
     "execution_count": 9,
     "metadata": {},
     "output_type": "execute_result"
    }
   ],
   "source": [
    "tkr.filter(\"symbol='%s'\" % symbol).todataframe()"
   ]
  },
  {
   "cell_type": "markdown",
   "metadata": {},
   "source": [
    "We find the dimensions of the array trades as:"
   ]
  },
  {
   "cell_type": "code",
   "execution_count": 10,
   "metadata": {
    "collapsed": false
   },
   "outputs": [
    {
     "data": {
      "text/plain": [
       "[u'synthetic', u'symbol_index', u'tm']"
      ]
     },
     "execution_count": 10,
     "metadata": {},
     "output_type": "execute_result"
    }
   ],
   "source": [
    "trades.dim_names"
   ]
  },
  {
   "cell_type": "markdown",
   "metadata": {},
   "source": [
    "And we then run the `between` statement using the following syntax:"
   ]
  },
  {
   "cell_type": "code",
   "execution_count": 11,
   "metadata": {
    "collapsed": false
   },
   "outputs": [
    {
     "data": {
      "text/plain": [
       "56545"
      ]
     },
     "execution_count": 11,
     "metadata": {},
     "output_type": "execute_result"
    }
   ],
   "source": [
    "trades.between('null', 22, 'null', 'null', 22, 'null').nonempty()"
   ]
  },
  {
   "cell_type": "markdown",
   "metadata": {},
   "source": [
    "The order of arguments follows the dimensions of the array:\n",
    " - the `trades` array has three dimensions (`synthetic, symbol_index, tm`)\n",
    " - the `between` expects pairs of arguments for `[start, end]`\n",
    " - hence six arguments for the `between` command above"
   ]
  },
  {
   "cell_type": "markdown",
   "metadata": {},
   "source": [
    "# Computing VWAP\n",
    "\n",
    "Let's turn to another common kind of operation, computing volume-weighted average price (VWAP). We'll compute it for every instrument across their raw trade data in the array trades, and store the result into a new array called 'VWAP'."
   ]
  },
  {
   "cell_type": "code",
   "execution_count": 12,
   "metadata": {
    "collapsed": false,
    "scrolled": true
   },
   "outputs": [
    {
     "data": {
      "text/html": [
       "<div>\n",
       "<table border=\"1\" class=\"dataframe\">\n",
       "  <thead>\n",
       "    <tr style=\"text-align: right;\">\n",
       "      <th></th>\n",
       "      <th></th>\n",
       "      <th></th>\n",
       "      <th>numerator</th>\n",
       "      <th>denominator</th>\n",
       "      <th>vwap</th>\n",
       "      <th>symbol</th>\n",
       "    </tr>\n",
       "    <tr>\n",
       "      <th>synthetic</th>\n",
       "      <th>symbol_index</th>\n",
       "      <th>tm</th>\n",
       "      <th></th>\n",
       "      <th></th>\n",
       "      <th></th>\n",
       "      <th></th>\n",
       "    </tr>\n",
       "  </thead>\n",
       "  <tbody>\n",
       "    <tr>\n",
       "      <th rowspan=\"5\" valign=\"top\">0</th>\n",
       "      <th rowspan=\"5\" valign=\"top\">13</th>\n",
       "      <th>14781433</th>\n",
       "      <td>2780.0</td>\n",
       "      <td>5</td>\n",
       "      <td>556.000000</td>\n",
       "      <td>AAPL</td>\n",
       "    </tr>\n",
       "    <tr>\n",
       "      <th>14833032</th>\n",
       "      <td>58375.0</td>\n",
       "      <td>105</td>\n",
       "      <td>555.952381</td>\n",
       "      <td>AAPL</td>\n",
       "    </tr>\n",
       "    <tr>\n",
       "      <th>15477542</th>\n",
       "      <td>169209.0</td>\n",
       "      <td>305</td>\n",
       "      <td>554.783607</td>\n",
       "      <td>AAPL</td>\n",
       "    </tr>\n",
       "    <tr>\n",
       "      <th>15643058</th>\n",
       "      <td>224698.0</td>\n",
       "      <td>405</td>\n",
       "      <td>554.809877</td>\n",
       "      <td>AAPL</td>\n",
       "    </tr>\n",
       "    <tr>\n",
       "      <th>15689610</th>\n",
       "      <td>502008.0</td>\n",
       "      <td>905</td>\n",
       "      <td>554.704972</td>\n",
       "      <td>AAPL</td>\n",
       "    </tr>\n",
       "  </tbody>\n",
       "</table>\n",
       "</div>"
      ],
      "text/plain": [
       "                                 numerator  denominator        vwap symbol\n",
       "synthetic symbol_index tm                                                 \n",
       "0         13           14781433     2780.0            5  556.000000   AAPL\n",
       "                       14833032    58375.0          105  555.952381   AAPL\n",
       "                       15477542   169209.0          305  554.783607   AAPL\n",
       "                       15643058   224698.0          405  554.809877   AAPL\n",
       "                       15689610   502008.0          905  554.704972   AAPL"
      ]
     },
     "execution_count": 12,
     "metadata": {},
     "output_type": "execute_result"
    }
   ],
   "source": [
    "vwap = trades.apply('pv', 'price*volume')\n",
    "vwap = sdb.afl.cumulate(vwap, \\\n",
    "                        'sum(pv) as numerator', \\\n",
    "                        'sum(volume) as denominator', 'tm')\n",
    "vwap = vwap.apply('vwap', 'numerator/denominator')\n",
    "sdb.merge(vwap, tkr[tkr == 'AAPL']).\\\n",
    "    limit(5).\\\n",
    "    todataframe()"
   ]
  },
  {
   "cell_type": "markdown",
   "metadata": {},
   "source": [
    "# Computing minute bars\n",
    "\n",
    "The trade data are now organized by symbol, time, and a synthetic coordinate that separates collisions (due to, say exchanges) in a sparse array.\n",
    "\n",
    "We need some extra aggregates from the `axial_aggregate` plugin -- load that:\n",
    "\n",
    "## Load `axial_aggregate` library\n",
    "\n",
    "We load the `axial_aggregate` library for the following calculations. The library is only available to Enterprise customers. Contact Paradigm4 for more details."
   ]
  },
  {
   "cell_type": "code",
   "execution_count": 13,
   "metadata": {
    "collapsed": false
   },
   "outputs": [],
   "source": [
    "if subprocess.call([\"/opt/scidb/15.12/bin/iquery\", \"-aq\", \"load_library('axial_aggregate')\"]) !=0: \n",
    "    print('The library is only available to Enterprise customers. Contact Paradigm4 for more details. ')"
   ]
  },
  {
   "cell_type": "markdown",
   "metadata": {},
   "source": [
    "The following query computes and store one-minute open/high/low/close bars from these data. "
   ]
  },
  {
   "cell_type": "code",
   "execution_count": 14,
   "metadata": {
    "collapsed": false,
    "scrolled": true
   },
   "outputs": [],
   "source": [
    "minute_bars = trades.apply('timeprice', 'tuple(tm,price)')\n",
    "minute_bars = sdb.afl.regrid(minute_bars, 1, 1, 60000,\n",
    "            'axial_first(timeprice) as open',\n",
    "            'max(price) as high',\n",
    "            'min(price) as low',\n",
    "            'axial_last(timeprice) as close'\n",
    "          )\n",
    "minute_bars = minute_bars.eval()"
   ]
  },
  {
   "cell_type": "markdown",
   "metadata": {},
   "source": [
    "Note that the calculation was done for all the tickers in parallel. \n",
    "\n",
    "We then download all the minute-bars data for ticker `AAN` into a Pandas dataframe. This shows the capability to download data into Python. "
   ]
  },
  {
   "cell_type": "code",
   "execution_count": 15,
   "metadata": {
    "collapsed": false,
    "scrolled": false
   },
   "outputs": [
    {
     "data": {
      "text/html": [
       "<div>\n",
       "<table border=\"1\" class=\"dataframe\">\n",
       "  <thead>\n",
       "    <tr style=\"text-align: right;\">\n",
       "      <th></th>\n",
       "      <th></th>\n",
       "      <th></th>\n",
       "      <th>open</th>\n",
       "      <th>high</th>\n",
       "      <th>low</th>\n",
       "      <th>close</th>\n",
       "      <th>symbol</th>\n",
       "    </tr>\n",
       "    <tr>\n",
       "      <th>synthetic</th>\n",
       "      <th>symbol_index</th>\n",
       "      <th>tm</th>\n",
       "      <th></th>\n",
       "      <th></th>\n",
       "      <th></th>\n",
       "      <th></th>\n",
       "      <th></th>\n",
       "    </tr>\n",
       "  </thead>\n",
       "  <tbody>\n",
       "    <tr>\n",
       "      <th rowspan=\"5\" valign=\"top\">0</th>\n",
       "      <th rowspan=\"5\" valign=\"top\">9</th>\n",
       "      <th>570</th>\n",
       "      <td>28.89</td>\n",
       "      <td>28.97</td>\n",
       "      <td>28.73</td>\n",
       "      <td>28.730</td>\n",
       "      <td>AAN</td>\n",
       "    </tr>\n",
       "    <tr>\n",
       "      <th>571</th>\n",
       "      <td>28.96</td>\n",
       "      <td>28.96</td>\n",
       "      <td>28.87</td>\n",
       "      <td>28.870</td>\n",
       "      <td>AAN</td>\n",
       "    </tr>\n",
       "    <tr>\n",
       "      <th>572</th>\n",
       "      <td>28.80</td>\n",
       "      <td>28.84</td>\n",
       "      <td>28.73</td>\n",
       "      <td>28.815</td>\n",
       "      <td>AAN</td>\n",
       "    </tr>\n",
       "    <tr>\n",
       "      <th>573</th>\n",
       "      <td>28.80</td>\n",
       "      <td>28.80</td>\n",
       "      <td>28.80</td>\n",
       "      <td>28.800</td>\n",
       "      <td>AAN</td>\n",
       "    </tr>\n",
       "    <tr>\n",
       "      <th>574</th>\n",
       "      <td>28.83</td>\n",
       "      <td>28.83</td>\n",
       "      <td>28.73</td>\n",
       "      <td>28.730</td>\n",
       "      <td>AAN</td>\n",
       "    </tr>\n",
       "  </tbody>\n",
       "</table>\n",
       "</div>"
      ],
      "text/plain": [
       "                             open   high    low   close symbol\n",
       "synthetic symbol_index tm                                     \n",
       "0         9            570  28.89  28.97  28.73  28.730    AAN\n",
       "                       571  28.96  28.96  28.87  28.870    AAN\n",
       "                       572  28.80  28.84  28.73  28.815    AAN\n",
       "                       573  28.80  28.80  28.80  28.800    AAN\n",
       "                       574  28.83  28.83  28.73  28.730    AAN"
      ]
     },
     "execution_count": 15,
     "metadata": {},
     "output_type": "execute_result"
    }
   ],
   "source": [
    "mb1 = sdb.merge(minute_bars, \n",
    "                tkr[tkr == \"AAN\"]).todataframe()\n",
    "mb1.head()"
   ]
  },
  {
   "cell_type": "markdown",
   "metadata": {},
   "source": [
    "Note! That 570 minutes = 9:30 AM."
   ]
  },
  {
   "cell_type": "code",
   "execution_count": 16,
   "metadata": {
    "collapsed": false,
    "scrolled": true
   },
   "outputs": [
    {
     "data": {
      "image/png": "[encoded data removed]",
      "text/plain": [
       "<matplotlib.figure.Figure at 0x7f961dacc890>"
      ]
     },
     "metadata": {},
     "output_type": "display_data"
    }
   ],
   "source": [
    "%matplotlib inline\n",
    "import matplotlib.pyplot as plt\n",
    "from matplotlib.finance import candlestick_ohlc\n",
    "\n",
    "# Split the dimensions to get the minute co-ordinates\n",
    "l1, l2,l3 = zip(*mb1.index.get_values())\n",
    "# unify into a nparray of tuples for use in candlestick graph\n",
    "q2 = zip(l3, mb1.open, mb1.high, mb1.low, mb1.close)\n",
    "\n",
    "fig, ax = plt.subplots()\n",
    "fig.subplots_adjust(bottom=0.2)\n",
    "fig.suptitle('Minute bars (OHLC): Symbol \\'AAN\\' ', fontsize=14, fontweight='bold')\n",
    "ax.set_xlabel('minutes')\n",
    "ax.set_ylabel('$')\n",
    "\n",
    "candlestick_ohlc(ax, q2[15:30], width=0.6)\n",
    "\n",
    "ax.autoscale_view()\n",
    "plt.setp(plt.gca().get_xticklabels(), rotation=45, horizontalalignment='right')\n",
    "\n",
    "plt.show()"
   ]
  },
  {
   "cell_type": "markdown",
   "metadata": {},
   "source": [
    "# AsOf join\n",
    "\n",
    "The `asof` operator joins trade data with quote data. At time points where quote data is not available, the last known value is looked up and filled in. This is sometimes also called a 'last value carry forward' join or 'piecewise constant interpolation join'.\n",
    "\n",
    "The syntax is:\n",
    "```\n",
    "asof(A, B [, aggrDim [, missingCode [, preserveNull]])\n",
    "```\n",
    "\n",
    "where the inputs are:\n",
    "- `A & B`: two arrays that have the same dimensionality;\n",
    "- `aggrDim`: the dimension in A along which to find last_value. Default is the last dimension.\n",
    "- `missingCode`: the missing code to use, when an A record cannot be found. Default is 0.\n",
    "- `preserveNull`: whether to preserve or skip past nulls in the left array. Default is to preserve."
   ]
  },
  {
   "cell_type": "markdown",
   "metadata": {},
   "source": [
    "Before we run the `asof` join, we have to take care of collisions in the timestamp dimension. Times were recorded in milliseconds and there were quite a lot of collisions in the data, as shown by the partial result below. "
   ]
  },
  {
   "cell_type": "code",
   "execution_count": 17,
   "metadata": {
    "collapsed": false
   },
   "outputs": [
    {
     "data": {
      "text/html": [
       "<div>\n",
       "<table border=\"1\" class=\"dataframe\">\n",
       "  <thead>\n",
       "    <tr style=\"text-align: right;\">\n",
       "      <th></th>\n",
       "      <th>count</th>\n",
       "    </tr>\n",
       "    <tr>\n",
       "      <th>synthetic</th>\n",
       "      <th></th>\n",
       "    </tr>\n",
       "  </thead>\n",
       "  <tbody>\n",
       "    <tr>\n",
       "      <th>44</th>\n",
       "      <td>3</td>\n",
       "    </tr>\n",
       "    <tr>\n",
       "      <th>45</th>\n",
       "      <td>3</td>\n",
       "    </tr>\n",
       "    <tr>\n",
       "      <th>46</th>\n",
       "      <td>1</td>\n",
       "    </tr>\n",
       "    <tr>\n",
       "      <th>47</th>\n",
       "      <td>1</td>\n",
       "    </tr>\n",
       "    <tr>\n",
       "      <th>48</th>\n",
       "      <td>1</td>\n",
       "    </tr>\n",
       "  </tbody>\n",
       "</table>\n",
       "</div>"
      ],
      "text/plain": [
       "           count\n",
       "synthetic       \n",
       "44             3\n",
       "45             3\n",
       "46             1\n",
       "47             1\n",
       "48             1"
      ]
     },
     "execution_count": 17,
     "metadata": {},
     "output_type": "execute_result"
    }
   ],
   "source": [
    "quotes.aggregate('count(*)', 'synthetic').todataframe().tail()"
   ]
  },
  {
   "cell_type": "markdown",
   "metadata": {},
   "source": [
    "The above result shows that there are up to 48 collisions at a certain timestamp for the loaded data. \n",
    "\n",
    "We can take care of the synthetic dimensions in multiple ways. In this example, we choose to convert the millisecond timestamp to an artificial microsecond resolution. \n",
    "\n",
    "## Taking care of synthetics in the quotes array \n",
    "\n",
    "We first find the minimum sequence number at each symbol index and timestamp"
   ]
  },
  {
   "cell_type": "code",
   "execution_count": 18,
   "metadata": {
    "collapsed": true
   },
   "outputs": [],
   "source": [
    "minseq = quotes.aggregate('min(sequence_number)', 'symbol_index', 'tm')"
   ]
  },
  {
   "cell_type": "markdown",
   "metadata": {},
   "source": [
    "We then join it back with the quotes array"
   ]
  },
  {
   "cell_type": "code",
   "execution_count": 19,
   "metadata": {
    "collapsed": true
   },
   "outputs": [],
   "source": [
    "joined = sdb.merge(quotes, minseq)"
   ]
  },
  {
   "cell_type": "markdown",
   "metadata": {},
   "source": [
    "Finally, we calculate an ordered index at each colliding timestamp, and then redimension to an array that has an artifical but correctly ordered microsecond timestamp resolution."
   ]
  },
  {
   "cell_type": "code",
   "execution_count": 20,
   "metadata": {
    "collapsed": false
   },
   "outputs": [],
   "source": [
    "quotes2 = joined.apply('subi', 'sequence_number - sequence_number_min')\\\n",
    "            .apply('tm_us', 'tm*1000 + subi')\\\n",
    "            .redimension('''<tm:int64, ask_price:double,ask_size:int64,\n",
    "                         bid_price:double,bid_size:int64,sequence_number:int64,\n",
    "                         condition:string,exchange:string>\n",
    "                         [symbol_index=0:*,10,0, tm_us=0:*,86400000000,0]''')\n",
    "quotes2 = quotes2.eval()"
   ]
  },
  {
   "cell_type": "markdown",
   "metadata": {},
   "source": [
    "Next we do the same to the trades array, but we add an offset of 500 to the artificial microsecond timestamp dimension. That means we can handle upto 499 collisions at any millisecond in our new artificial timestamp dimension"
   ]
  },
  {
   "cell_type": "code",
   "execution_count": 21,
   "metadata": {
    "collapsed": false
   },
   "outputs": [],
   "source": [
    "minseq = trades.aggregate('min(sequence_number)', 'symbol_index', 'tm')\n",
    "joined = sdb.merge(trades, minseq)\n",
    "trades2 = joined.apply('subi', 'sequence_number - sequence_number_min')\\\n",
    "            .apply('tm_us', 'tm*1000 + 500 + subi')\\\n",
    "            .redimension('''<tm:int64, price:double,volume:int64,\n",
    "                            sequence_number:int64,condition:string,\n",
    "                            exchange:string>\n",
    "                         [symbol_index=0:*,10,0, tm_us=0:*,86400000000,0]''')\n",
    "trades2 = trades2.eval()"
   ]
  },
  {
   "cell_type": "markdown",
   "metadata": {},
   "source": [
    "Finally we run the `asof` join and make some simple checks:"
   ]
  },
  {
   "cell_type": "code",
   "execution_count": 22,
   "metadata": {
    "collapsed": false
   },
   "outputs": [],
   "source": [
    "asof1 = sdb.afl.asof('%s as A' % quotes2.name, trades2, 'A.tm_us', 5, 'false')\n",
    "asof1 = asof1.eval()"
   ]
  },
  {
   "cell_type": "code",
   "execution_count": 23,
   "metadata": {
    "collapsed": false,
    "scrolled": false
   },
   "outputs": [
    {
     "name": "stdout",
     "output_type": "stream",
     "text": [
      "\n",
      "# of elements in the joined result:\n",
      "499999\n",
      "\n",
      "The head() of the joined array\n"
     ]
    },
    {
     "data": {
      "text/html": [
       "<div>\n",
       "<table border=\"1\" class=\"dataframe\">\n",
       "  <thead>\n",
       "    <tr style=\"text-align: right;\">\n",
       "      <th></th>\n",
       "      <th></th>\n",
       "      <th>tm</th>\n",
       "      <th>ask_price</th>\n",
       "      <th>ask_size</th>\n",
       "      <th>bid_price</th>\n",
       "      <th>bid_size</th>\n",
       "      <th>tm_2</th>\n",
       "      <th>price</th>\n",
       "      <th>volume</th>\n",
       "      <th>symbol</th>\n",
       "    </tr>\n",
       "    <tr>\n",
       "      <th>symbol_index</th>\n",
       "      <th>tm_us</th>\n",
       "      <th></th>\n",
       "      <th></th>\n",
       "      <th></th>\n",
       "      <th></th>\n",
       "      <th></th>\n",
       "      <th></th>\n",
       "      <th></th>\n",
       "      <th></th>\n",
       "      <th></th>\n",
       "    </tr>\n",
       "  </thead>\n",
       "  <tbody>\n",
       "    <tr>\n",
       "      <th rowspan=\"5\" valign=\"top\">9</th>\n",
       "      <th>34232777504</th>\n",
       "      <td>34232777</td>\n",
       "      <td>28.97</td>\n",
       "      <td>1</td>\n",
       "      <td>28.66</td>\n",
       "      <td>1</td>\n",
       "      <td>34232777</td>\n",
       "      <td>28.92</td>\n",
       "      <td>100</td>\n",
       "      <td>AAN</td>\n",
       "    </tr>\n",
       "    <tr>\n",
       "      <th>34232785500</th>\n",
       "      <td>34232777</td>\n",
       "      <td>28.97</td>\n",
       "      <td>1</td>\n",
       "      <td>28.66</td>\n",
       "      <td>1</td>\n",
       "      <td>34232785</td>\n",
       "      <td>28.92</td>\n",
       "      <td>700</td>\n",
       "      <td>AAN</td>\n",
       "    </tr>\n",
       "    <tr>\n",
       "      <th>34232863500</th>\n",
       "      <td>34232863</td>\n",
       "      <td>28.93</td>\n",
       "      <td>1</td>\n",
       "      <td>28.81</td>\n",
       "      <td>1</td>\n",
       "      <td>34232863</td>\n",
       "      <td>28.86</td>\n",
       "      <td>100</td>\n",
       "      <td>AAN</td>\n",
       "    </tr>\n",
       "    <tr>\n",
       "      <th>34233100500</th>\n",
       "      <td>34233100</td>\n",
       "      <td>29.10</td>\n",
       "      <td>5</td>\n",
       "      <td>28.81</td>\n",
       "      <td>2</td>\n",
       "      <td>34233100</td>\n",
       "      <td>28.81</td>\n",
       "      <td>200</td>\n",
       "      <td>AAN</td>\n",
       "    </tr>\n",
       "    <tr>\n",
       "      <th>34234165500</th>\n",
       "      <td>34233768</td>\n",
       "      <td>29.10</td>\n",
       "      <td>5</td>\n",
       "      <td>28.68</td>\n",
       "      <td>1</td>\n",
       "      <td>34234165</td>\n",
       "      <td>28.73</td>\n",
       "      <td>100</td>\n",
       "      <td>AAN</td>\n",
       "    </tr>\n",
       "  </tbody>\n",
       "</table>\n",
       "</div>"
      ],
      "text/plain": [
       "                                tm  ask_price  ask_size  bid_price  bid_size  \\\n",
       "symbol_index tm_us                                                             \n",
       "9            34232777504  34232777      28.97         1      28.66         1   \n",
       "             34232785500  34232777      28.97         1      28.66         1   \n",
       "             34232863500  34232863      28.93         1      28.81         1   \n",
       "             34233100500  34233100      29.10         5      28.81         2   \n",
       "             34234165500  34233768      29.10         5      28.68         1   \n",
       "\n",
       "                              tm_2  price  volume symbol  \n",
       "symbol_index tm_us                                        \n",
       "9            34232777504  34232777  28.92     100    AAN  \n",
       "             34232785500  34232785  28.92     700    AAN  \n",
       "             34232863500  34232863  28.86     100    AAN  \n",
       "             34233100500  34233100  28.81     200    AAN  \n",
       "             34234165500  34234165  28.73     100    AAN  "
      ]
     },
     "execution_count": 23,
     "metadata": {},
     "output_type": "execute_result"
    }
   ],
   "source": [
    "print('\\n# of elements in the joined result:')\n",
    "print(asof1.nonempty())\n",
    "print('\\nThe head() of the joined array')\n",
    "sdb.merge(asof1.project('tm', 'ask_price', 'ask_size', 'bid_price', 'bid_size', 'tm_2', 'price', 'volume'), \\\n",
    "            tkr[tkr == 'AAN']).\\\n",
    "            limit(20).\\\n",
    "            todataframe().tail()"
   ]
  },
  {
   "cell_type": "markdown",
   "metadata": {},
   "source": [
    "# RegNMS (Compliance)"
   ]
  },
  {
   "cell_type": "markdown",
   "metadata": {},
   "source": [
    "Finally run some interesting analysis on the result of the As Of join. \n",
    "\n",
    "First, filter the joined quotes for inconsistencies e.g. where the ask price was lower than the bid price. "
   ]
  },
  {
   "cell_type": "code",
   "execution_count": 24,
   "metadata": {
    "collapsed": false,
    "scrolled": true
   },
   "outputs": [
    {
     "data": {
      "text/html": [
       "<div>\n",
       "<table border=\"1\" class=\"dataframe\">\n",
       "  <thead>\n",
       "    <tr style=\"text-align: right;\">\n",
       "      <th></th>\n",
       "      <th></th>\n",
       "      <th>tm</th>\n",
       "      <th>ask_price</th>\n",
       "      <th>ask_size</th>\n",
       "      <th>bid_price</th>\n",
       "      <th>bid_size</th>\n",
       "      <th>tm_2</th>\n",
       "      <th>price</th>\n",
       "      <th>volume</th>\n",
       "      <th>symbol</th>\n",
       "    </tr>\n",
       "    <tr>\n",
       "      <th>symbol_index</th>\n",
       "      <th>tm_us</th>\n",
       "      <th></th>\n",
       "      <th></th>\n",
       "      <th></th>\n",
       "      <th></th>\n",
       "      <th></th>\n",
       "      <th></th>\n",
       "      <th></th>\n",
       "      <th></th>\n",
       "      <th></th>\n",
       "    </tr>\n",
       "  </thead>\n",
       "  <tbody>\n",
       "  </tbody>\n",
       "</table>\n",
       "</div>"
      ],
      "text/plain": [
       "Empty DataFrame\n",
       "Columns: [tm, ask_price, ask_size, bid_price, bid_size, tm_2, price, volume, symbol]\n",
       "Index: []"
      ]
     },
     "execution_count": 24,
     "metadata": {},
     "output_type": "execute_result"
    }
   ],
   "source": [
    "sdb.merge(asof1.filter('ask_price < bid_price')\\\n",
    "        .project('tm', 'ask_price', 'ask_size', 'bid_price', 'bid_size', 'tm_2', 'price', 'volume'), \\\n",
    "        tkr[tkr=='AAN'])\\\n",
    "        .limit(5)\\\n",
    "        .todataframe()"
   ]
  },
  {
   "cell_type": "markdown",
   "metadata": {},
   "source": [
    "Thus there are no inconsistent quotes.\n",
    "\n",
    "Next, check for trades that occurred outside the ask-bid spread. "
   ]
  },
  {
   "cell_type": "code",
   "execution_count": 25,
   "metadata": {
    "collapsed": false
   },
   "outputs": [
    {
     "data": {
      "text/html": [
       "<div>\n",
       "<table border=\"1\" class=\"dataframe\">\n",
       "  <thead>\n",
       "    <tr style=\"text-align: right;\">\n",
       "      <th></th>\n",
       "      <th></th>\n",
       "      <th>tm</th>\n",
       "      <th>ask_price</th>\n",
       "      <th>ask_size</th>\n",
       "      <th>bid_price</th>\n",
       "      <th>bid_size</th>\n",
       "      <th>tm_2</th>\n",
       "      <th>price</th>\n",
       "      <th>volume</th>\n",
       "      <th>symbol</th>\n",
       "    </tr>\n",
       "    <tr>\n",
       "      <th>symbol_index</th>\n",
       "      <th>tm_us</th>\n",
       "      <th></th>\n",
       "      <th></th>\n",
       "      <th></th>\n",
       "      <th></th>\n",
       "      <th></th>\n",
       "      <th></th>\n",
       "      <th></th>\n",
       "      <th></th>\n",
       "      <th></th>\n",
       "    </tr>\n",
       "  </thead>\n",
       "  <tbody>\n",
       "    <tr>\n",
       "      <th rowspan=\"5\" valign=\"top\">9</th>\n",
       "      <th>34320455500</th>\n",
       "      <td>34319040</td>\n",
       "      <td>28.87</td>\n",
       "      <td>1</td>\n",
       "      <td>28.82</td>\n",
       "      <td>2</td>\n",
       "      <td>34320455</td>\n",
       "      <td>28.800</td>\n",
       "      <td>100</td>\n",
       "      <td>AAN</td>\n",
       "    </tr>\n",
       "    <tr>\n",
       "      <th>34655487500</th>\n",
       "      <td>34655486</td>\n",
       "      <td>28.74</td>\n",
       "      <td>4</td>\n",
       "      <td>28.67</td>\n",
       "      <td>3</td>\n",
       "      <td>34655487</td>\n",
       "      <td>28.750</td>\n",
       "      <td>100</td>\n",
       "      <td>AAN</td>\n",
       "    </tr>\n",
       "    <tr>\n",
       "      <th>34659620500</th>\n",
       "      <td>34658346</td>\n",
       "      <td>28.70</td>\n",
       "      <td>6</td>\n",
       "      <td>28.63</td>\n",
       "      <td>1</td>\n",
       "      <td>34659620</td>\n",
       "      <td>28.725</td>\n",
       "      <td>900</td>\n",
       "      <td>AAN</td>\n",
       "    </tr>\n",
       "    <tr>\n",
       "      <th>34665843500</th>\n",
       "      <td>34665843</td>\n",
       "      <td>28.70</td>\n",
       "      <td>1</td>\n",
       "      <td>28.68</td>\n",
       "      <td>1</td>\n",
       "      <td>34665843</td>\n",
       "      <td>28.670</td>\n",
       "      <td>96</td>\n",
       "      <td>AAN</td>\n",
       "    </tr>\n",
       "    <tr>\n",
       "      <th>34672609500</th>\n",
       "      <td>34672603</td>\n",
       "      <td>28.74</td>\n",
       "      <td>1</td>\n",
       "      <td>28.72</td>\n",
       "      <td>1</td>\n",
       "      <td>34672609</td>\n",
       "      <td>28.760</td>\n",
       "      <td>600</td>\n",
       "      <td>AAN</td>\n",
       "    </tr>\n",
       "  </tbody>\n",
       "</table>\n",
       "</div>"
      ],
      "text/plain": [
       "                                tm  ask_price  ask_size  bid_price  bid_size  \\\n",
       "symbol_index tm_us                                                             \n",
       "9            34320455500  34319040      28.87         1      28.82         2   \n",
       "             34655487500  34655486      28.74         4      28.67         3   \n",
       "             34659620500  34658346      28.70         6      28.63         1   \n",
       "             34665843500  34665843      28.70         1      28.68         1   \n",
       "             34672609500  34672603      28.74         1      28.72         1   \n",
       "\n",
       "                              tm_2   price  volume symbol  \n",
       "symbol_index tm_us                                         \n",
       "9            34320455500  34320455  28.800     100    AAN  \n",
       "             34655487500  34655487  28.750     100    AAN  \n",
       "             34659620500  34659620  28.725     900    AAN  \n",
       "             34665843500  34665843  28.670      96    AAN  \n",
       "             34672609500  34672609  28.760     600    AAN  "
      ]
     },
     "execution_count": 25,
     "metadata": {},
     "output_type": "execute_result"
    }
   ],
   "source": [
    "sdb.merge(asof1.filter('price < bid_price or price > ask_price')\\\n",
    "        .project('tm', 'ask_price', 'ask_size', 'bid_price', 'bid_size', 'tm_2', 'price', 'volume'), \\\n",
    "        tkr[tkr=='AAN']).\\\n",
    "        limit(5).\\\n",
    "        todataframe()"
   ]
  },
  {
   "cell_type": "markdown",
   "metadata": {},
   "source": [
    "Above, we found some joined results where the traded price lies outside the range between bids and asks. \n",
    "\n",
    "# Not shown here\n",
    "\n",
    "Using these same building blocks of array storage, multidimensional joins, linear algebra, R/Python interfaces and advanced extensibility, SciDB can perform a vast universe of various tasks, all of which would simply not fit into a single AMI. Here’s a partial list of other analyses we have performed together with some of our customers and partners:\n",
    "\n",
    "1. Customized load scripts\n",
    "     - Parallel binary load: Parallel ingest of files located across the storage cluster\n",
    "     - Domain specific loader modules: Loaders optimized for specific data-type that is to be ingested\n",
    "2. Order book building\n",
    "     - Order book building from TAQ data\n",
    "     - Order book aggregation (NBBO) from multiple books\n",
    "3. Other finance workflows\n",
    "     - Portfolio risk analysis\n",
    "     - Transaction cost analysis\n",
    "     - Advanced tick analytics\n",
    "     - Bi-temporal data handling\n",
    "     - Option volatility surface studies\n",
    "4. Interfacing with compute grids\n",
    "     - Parallel download to 3rd party clients (Python, R) to support elastic compute grids \n",
    "5. Enterprise-Level Features\n",
    "     - Elasticity: adding new nodes to a live cluster with negligible downtime. The data can be redistributed while the cluster remains available for queries.\n",
    "     - Namespaces and Permissions: granting certain database users permissions over specific arrays - to control access and share more effectively and securely.\n",
    "     - Replication: storing extra copies of data to protect against disk failure. \n",
    "     - System monitoring: a mechanism that detects the loss of a host and, if the failure is intermittent, automatically returns the system to working state\n",
    "6. Additional functionality: large sparse SVD, GLM, MKL-accelerated linear algebra\n",
    "\n",
    "For questions about any of these, items reach out to us at `FinancialMarkets@paradigm4.com`.\n"
   ]
  }
 ],
 "metadata": {
  "kernelspec": {
   "display_name": "Python 2",
   "language": "python",
   "name": "python2"
  },
  "language_info": {
   "codemirror_mode": {
    "name": "ipython",
    "version": 2
   },
   "file_extension": ".py",
   "mimetype": "text/x-python",
   "name": "python",
   "nbconvert_exporter": "python",
   "pygments_lexer": "ipython2",
   "version": "2.7.11"
  }
 },
 "nbformat": 4,
 "nbformat_minor": 0
}
