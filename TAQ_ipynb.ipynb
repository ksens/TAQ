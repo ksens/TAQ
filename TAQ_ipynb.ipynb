{
 "cells": [
  {
   "cell_type": "markdown",
   "metadata": {},
   "source": [
    "# Example SciDB queries for trade and quote data\n",
    "\n",
    "This iPython Notebook replicates the work done by AFL queries at [this repo's main page](https://github.com/Paradigm4/TAQ/) in SciDB-py. \n",
    "\n",
    "The example queries here use the following example data obtained from Nyxdata:\n"
   ]
  },
  {
   "cell_type": "code",
   "execution_count": 1,
   "metadata": {
    "collapsed": false
   },
   "outputs": [
    {
     "name": "stdout",
     "output_type": "stream",
     "text": [
      "--2016-04-04 02:38:23--  ftp://ftp.nyxdata.com/Historical%20Data%20Samples/Daily%20TAQ/EQY_US_ALL_NBBO_20131218.zip\n",
      "           => ‘/tmp/EQY_US_ALL_NBBO_20131218.zip.2’\n",
      "Resolving ftp.nyxdata.com (ftp.nyxdata.com)... 159.125.78.28\n",
      "Connecting to ftp.nyxdata.com (ftp.nyxdata.com)|159.125.78.28|:21... connected.\n",
      "Logging in as anonymous ... Logged in!\n",
      "==> SYST ... done.    ==> PWD ... done.\n",
      "==> TYPE I ... done.  ==> CWD (1) /Historical Data Samples/Daily TAQ ... done.\n",
      "==> SIZE EQY_US_ALL_NBBO_20131218.zip ... 2113968509\n",
      "==> PASV ... done.    ==> RETR EQY_US_ALL_NBBO_20131218.zip ... done.\n",
      "Length: 2113968509 (2.0G) (unauthoritative)\n",
      "\n",
      "100%[====================================>] 2,113,968,509 3.35MB/s   in 10m 18s\n",
      "\n",
      "2016-04-04 02:48:41 (3.26 MB/s) - ‘/tmp/EQY_US_ALL_NBBO_20131218.zip.2’ saved [2113968509]\n",
      "\n"
     ]
    }
   ],
   "source": [
    "!wget ftp://ftp.nyxdata.com/Historical%20Data%20Samples/Daily%20TAQ/EQY_US_ALL_TRADE_20131218.zip \\\n",
    "    --directory-prefix=/tmp   \n",
    "    "
   ]
  },
  {
   "cell_type": "code",
   "execution_count": 2,
   "metadata": {
    "collapsed": false
   },
   "outputs": [
    {
     "name": "stdout",
     "output_type": "stream",
     "text": [
      "--2016-04-04 02:48:41--  ftp://ftp.nyxdata.com/Historical%20Data%20Samples/Daily%20TAQ/EQY_US_ALL_TRADE_20131218.zip\n",
      "           => ‘/tmp/EQY_US_ALL_TRADE_20131218.zip’\n",
      "Resolving ftp.nyxdata.com (ftp.nyxdata.com)... 159.125.78.28\n",
      "Connecting to ftp.nyxdata.com (ftp.nyxdata.com)|159.125.78.28|:21... connected.\n",
      "Logging in as anonymous ... Logged in!\n",
      "==> SYST ... done.    ==> PWD ... done.\n",
      "==> TYPE I ... done.  ==> CWD (1) /Historical Data Samples/Daily TAQ ... done.\n",
      "==> SIZE EQY_US_ALL_TRADE_20131218.zip ... 312753367\n",
      "==> PASV ... done.    ==> RETR EQY_US_ALL_TRADE_20131218.zip ... done.\n",
      "Length: 312753367 (298M) (unauthoritative)\n",
      "\n",
      "100%[======================================>] 312,753,367 4.05MB/s   in 76s    \n",
      "\n",
      "2016-04-04 02:49:57 (3.93 MB/s) - ‘/tmp/EQY_US_ALL_TRADE_20131218.zip’ saved [312753367]\n",
      "\n"
     ]
    }
   ],
   "source": [
    "!wget ftp://ftp.nyxdata.com/Historical%20Data%20Samples/Daily%20TAQ/EQY_US_ALL_NBBO_20131218.zip \\\n",
    "    --directory-prefix=/tmp   "
   ]
  },
  {
   "cell_type": "markdown",
   "metadata": {},
   "source": [
    "The example data file format specification is available from: http://www.nyxdata.com/doc/224904\n",
    "\n",
    "## Loading the data into ScIDB\n",
    "\n",
    "The `trades_load.sh` and `trades_redim.sh` scripts load the `EQY_US_ALL_TRADE_20131218.zip` data and redimension them into a `ms` (time) by `symbol_index` 2-d SciDB array. The script also creates an auxiliary mapping array named `tkr` between string ticker symbol and integer symbol index.\n",
    "\n",
    "The `quotes_load.sh` and `quotes_redim.sh` script does the same thing but for the `EQY_US_ALL_NBBO` quote data file.\n",
    "\n",
    "Run the following to load and redimension the example data"
   ]
  },
  {
   "cell_type": "code",
   "execution_count": 52,
   "metadata": {
    "collapsed": false,
    "scrolled": false
   },
   "outputs": [
    {
     "data": {
      "text/plain": [
       "0"
      ]
     },
     "execution_count": 52,
     "metadata": {},
     "output_type": "execute_result"
    }
   ],
   "source": [
    "import subprocess\n",
    "subprocess.call([\"./trades_load.sh\"])\n",
    "#subprocess.call([\"./trades_load.sh\", \"/tmp/EQY_US_ALL_TRADES_20131218.zip\", \"500000\"])\n",
    "subprocess.call(\"./trades_redim.sh\")"
   ]
  },
  {
   "cell_type": "code",
   "execution_count": 53,
   "metadata": {
    "collapsed": false
   },
   "outputs": [
    {
     "data": {
      "text/plain": [
       "0"
      ]
     },
     "execution_count": 53,
     "metadata": {},
     "output_type": "execute_result"
    }
   ],
   "source": [
    "subprocess.call([\"./quotes_load.sh\", \"/tmp/EQY_US_ALL_NBBO_20131218.zip\",  \"1000000\"])\n",
    "subprocess.call(\"./quotes_redim.sh\")"
   ]
  },
  {
   "cell_type": "markdown",
   "metadata": {},
   "source": [
    "## Connecting to the database\n",
    "\n",
    "Then let's run some queries on the loaded trades and quote (TAQ) data from the comfort of SciDB-Py.\n",
    "First let us set up the connectivity to the database (and also import some useful libraries)"
   ]
  },
  {
   "cell_type": "code",
   "execution_count": 54,
   "metadata": {
    "collapsed": false
   },
   "outputs": [],
   "source": [
    "import matplotlib.pyplot as plt\n",
    "from scidbpy import connect\n",
    "import time\n",
    "sdb = connect(\"http://localhost:8080\")\n",
    "afl = sdb.afl"
   ]
  },
  {
   "cell_type": "markdown",
   "metadata": {},
   "source": [
    "Next, associate Python objects with SciDB arrays (no data transfers yet -- just connections)"
   ]
  },
  {
   "cell_type": "code",
   "execution_count": 55,
   "metadata": {
    "collapsed": false
   },
   "outputs": [],
   "source": [
    "trades = sdb.wrap_array('trades')\n",
    "quotes = sdb.wrap_array('quotes')\n",
    "tkr = sdb.wrap_array('tkr')"
   ]
  },
  {
   "cell_type": "markdown",
   "metadata": {},
   "source": [
    "An example lookup"
   ]
  },
  {
   "cell_type": "code",
   "execution_count": 56,
   "metadata": {
    "collapsed": false
   },
   "outputs": [
    {
     "name": "stdout",
     "output_type": "stream",
     "text": [
      "loaded library: limit\n"
     ]
    },
    {
     "data": {
      "text/html": [
       "<div>\n",
       "<table border=\"1\" class=\"dataframe\">\n",
       "  <thead>\n",
       "    <tr style=\"text-align: right;\">\n",
       "      <th></th>\n",
       "      <th>symbol</th>\n",
       "    </tr>\n",
       "    <tr>\n",
       "      <th>symbol_index</th>\n",
       "      <th></th>\n",
       "    </tr>\n",
       "  </thead>\n",
       "  <tbody>\n",
       "    <tr>\n",
       "      <th>0</th>\n",
       "      <td>A</td>\n",
       "    </tr>\n",
       "    <tr>\n",
       "      <th>1</th>\n",
       "      <td>AA</td>\n",
       "    </tr>\n",
       "    <tr>\n",
       "      <th>2</th>\n",
       "      <td>AA    PR</td>\n",
       "    </tr>\n",
       "    <tr>\n",
       "      <th>3</th>\n",
       "      <td>AADR</td>\n",
       "    </tr>\n",
       "    <tr>\n",
       "      <th>4</th>\n",
       "      <td>AAIT</td>\n",
       "    </tr>\n",
       "  </tbody>\n",
       "</table>\n",
       "</div>"
      ],
      "text/plain": [
       "                symbol\n",
       "symbol_index          \n",
       "0                    A\n",
       "1                   AA\n",
       "2             AA    PR\n",
       "3                 AADR\n",
       "4                 AAIT"
      ]
     },
     "execution_count": 56,
     "metadata": {},
     "output_type": "execute_result"
    }
   ],
   "source": [
    "if subprocess.call([\"iquery\", \"-aq\", \"load_library('limit')\"]) == 0:\n",
    "    print('loaded library: limit')\n",
    "else:\n",
    "    print('''requires user to install the `limit` library. \n",
    "            See https://github.com/Paradigm4/limit. \n",
    "            Otherwise, use the slower version: tkr.todataframe().head()''')\n",
    "tkr.limit(5).todataframe() "
   ]
  },
  {
   "cell_type": "markdown",
   "metadata": {},
   "source": [
    "## Looking up trades by symbol string\n",
    "\n",
    "Join with the auxiliary `tkr` array to look up data by ticker symbol name. Here are examples that count the number of trades and quotes for 'BAM'.\n"
   ]
  },
  {
   "cell_type": "code",
   "execution_count": 57,
   "metadata": {
    "collapsed": false
   },
   "outputs": [
    {
     "name": "stdout",
     "output_type": "stream",
     "text": [
      "37932 trades for ABBV \n",
      "59718 quotes for ABBV \n"
     ]
    }
   ],
   "source": [
    "symbol = \"ABBV\"\n",
    "print(\"%d trades for %s \" % (sdb.merge(trades,\n",
    "            tkr.filter(\"symbol='%s'\" % symbol)\n",
    "          ).nonempty(), symbol))\n",
    "print(\"%d quotes for %s \" % (sdb.merge(quotes,\n",
    "            tkr.filter(\"symbol='%s'\" % symbol)\n",
    "          ).nonempty(), symbol))"
   ]
  },
  {
   "cell_type": "markdown",
   "metadata": {},
   "source": [
    "As expected we see more quotes than trades for this instrument. Note that you can also just filter directly by symbol index using `between` if you know it. For example:"
   ]
  },
  {
   "cell_type": "code",
   "execution_count": 58,
   "metadata": {
    "collapsed": false
   },
   "outputs": [
    {
     "data": {
      "text/plain": [
       "[37932, 'ABBV']"
      ]
     },
     "execution_count": 58,
     "metadata": {},
     "output_type": "execute_result"
    }
   ],
   "source": [
    "[sdb.merge(trades,\n",
    "            tkr.filter(\"symbol='%s'\" % symbol)\n",
    "          ).nonempty(), symbol]"
   ]
  },
  {
   "cell_type": "code",
   "execution_count": 59,
   "metadata": {
    "collapsed": false
   },
   "outputs": [
    {
     "data": {
      "text/html": [
       "<div>\n",
       "<table border=\"1\" class=\"dataframe\">\n",
       "  <thead>\n",
       "    <tr style=\"text-align: right;\">\n",
       "      <th></th>\n",
       "      <th>symbol</th>\n",
       "    </tr>\n",
       "    <tr>\n",
       "      <th>symbol_index</th>\n",
       "      <th></th>\n",
       "    </tr>\n",
       "  </thead>\n",
       "  <tbody>\n",
       "    <tr>\n",
       "      <th>22</th>\n",
       "      <td>ABBV</td>\n",
       "    </tr>\n",
       "  </tbody>\n",
       "</table>\n",
       "</div>"
      ],
      "text/plain": [
       "             symbol\n",
       "symbol_index       \n",
       "22             ABBV"
      ]
     },
     "execution_count": 59,
     "metadata": {},
     "output_type": "execute_result"
    }
   ],
   "source": [
    "tkr.filter(\"symbol='%s'\" % symbol).todataframe()"
   ]
  },
  {
   "cell_type": "code",
   "execution_count": 61,
   "metadata": {
    "collapsed": false,
    "scrolled": true
   },
   "outputs": [
    {
     "name": "stdout",
     "output_type": "stream",
     "text": [
      "[u'symbol_index', u'tm']\n"
     ]
    },
    {
     "data": {
      "text/plain": [
       "37932"
      ]
     },
     "execution_count": 61,
     "metadata": {},
     "output_type": "execute_result"
    }
   ],
   "source": [
    "print(trades.dim_names)\n",
    "trades.between(22, 'null', 22, 'null').nonempty()"
   ]
  },
  {
   "cell_type": "markdown",
   "metadata": {},
   "source": [
    "# Computing VWAP\n",
    "\n",
    "Let's turn to another common kind of operation, computing volume-weighted average price (VWAP). We'll compute it for every instrument across their raw trade data in the array tades, and store the result into a new array called 'VWAP'."
   ]
  },
  {
   "cell_type": "code",
   "execution_count": 62,
   "metadata": {
    "collapsed": false
   },
   "outputs": [
    {
     "data": {
      "text/html": [
       "<div>\n",
       "<table border=\"1\" class=\"dataframe\">\n",
       "  <thead>\n",
       "    <tr style=\"text-align: right;\">\n",
       "      <th></th>\n",
       "      <th></th>\n",
       "      <th>numerator</th>\n",
       "      <th>denominator</th>\n",
       "      <th>vwap</th>\n",
       "      <th>symbol</th>\n",
       "    </tr>\n",
       "    <tr>\n",
       "      <th>symbol_index</th>\n",
       "      <th>tm</th>\n",
       "      <th></th>\n",
       "      <th></th>\n",
       "      <th></th>\n",
       "      <th></th>\n",
       "    </tr>\n",
       "  </thead>\n",
       "  <tbody>\n",
       "    <tr>\n",
       "      <th rowspan=\"5\" valign=\"top\">13</th>\n",
       "      <th>14781433</th>\n",
       "      <td>2780.0</td>\n",
       "      <td>5</td>\n",
       "      <td>556.000000</td>\n",
       "      <td>AAPL</td>\n",
       "    </tr>\n",
       "    <tr>\n",
       "      <th>14833032</th>\n",
       "      <td>58375.0</td>\n",
       "      <td>105</td>\n",
       "      <td>555.952381</td>\n",
       "      <td>AAPL</td>\n",
       "    </tr>\n",
       "    <tr>\n",
       "      <th>15477542</th>\n",
       "      <td>169209.0</td>\n",
       "      <td>305</td>\n",
       "      <td>554.783607</td>\n",
       "      <td>AAPL</td>\n",
       "    </tr>\n",
       "    <tr>\n",
       "      <th>15643058</th>\n",
       "      <td>224698.0</td>\n",
       "      <td>405</td>\n",
       "      <td>554.809877</td>\n",
       "      <td>AAPL</td>\n",
       "    </tr>\n",
       "    <tr>\n",
       "      <th>15689610</th>\n",
       "      <td>502008.0</td>\n",
       "      <td>905</td>\n",
       "      <td>554.704972</td>\n",
       "      <td>AAPL</td>\n",
       "    </tr>\n",
       "  </tbody>\n",
       "</table>\n",
       "</div>"
      ],
      "text/plain": [
       "                       numerator  denominator        vwap symbol\n",
       "symbol_index tm                                                 \n",
       "13           14781433     2780.0            5  556.000000   AAPL\n",
       "             14833032    58375.0          105  555.952381   AAPL\n",
       "             15477542   169209.0          305  554.783607   AAPL\n",
       "             15643058   224698.0          405  554.809877   AAPL\n",
       "             15689610   502008.0          905  554.704972   AAPL"
      ]
     },
     "execution_count": 62,
     "metadata": {},
     "output_type": "execute_result"
    }
   ],
   "source": [
    "vwap = trades.apply('pv', 'price*volume')\n",
    "vwap = sdb.afl.cumulate(vwap, \\\n",
    "                        'sum(pv) as numerator', \\\n",
    "                        'sum(volume) as denominator', 'tm')\n",
    "vwap = vwap.apply('vwap', 'numerator/denominator')\n",
    "sdb.merge(vwap, tkr[tkr == 'AAPL']).\\\n",
    "    limit(5).\\\n",
    "    todataframe()"
   ]
  },
  {
   "cell_type": "code",
   "execution_count": 63,
   "metadata": {
    "collapsed": false
   },
   "outputs": [],
   "source": [
    "if subprocess.call([\"iquery\", \"-aq\", \"load_library('axial_aggregate')\"]) !=0: \n",
    "    print('The library is only available to Enterprise customers. Contact Paradigm4 for more details. ')"
   ]
  },
  {
   "cell_type": "code",
   "execution_count": 64,
   "metadata": {
    "collapsed": false
   },
   "outputs": [
    {
     "data": {
      "text/html": [
       "<div>\n",
       "<table border=\"1\" class=\"dataframe\">\n",
       "  <thead>\n",
       "    <tr style=\"text-align: right;\">\n",
       "      <th></th>\n",
       "      <th></th>\n",
       "      <th>price</th>\n",
       "      <th>volume</th>\n",
       "      <th>sequence_number</th>\n",
       "      <th>condition</th>\n",
       "      <th>exchange</th>\n",
       "      <th>symbol</th>\n",
       "    </tr>\n",
       "    <tr>\n",
       "      <th>symbol_index</th>\n",
       "      <th>tm</th>\n",
       "      <th></th>\n",
       "      <th></th>\n",
       "      <th></th>\n",
       "      <th></th>\n",
       "      <th></th>\n",
       "      <th></th>\n",
       "    </tr>\n",
       "  </thead>\n",
       "  <tbody>\n",
       "    <tr>\n",
       "      <th rowspan=\"5\" valign=\"top\">13</th>\n",
       "      <th>14781433</th>\n",
       "      <td>556.00</td>\n",
       "      <td>5</td>\n",
       "      <td>906</td>\n",
       "      <td>@ TI</td>\n",
       "      <td>Q</td>\n",
       "      <td>AAPL</td>\n",
       "    </tr>\n",
       "    <tr>\n",
       "      <th>14833032</th>\n",
       "      <td>555.95</td>\n",
       "      <td>100</td>\n",
       "      <td>907</td>\n",
       "      <td>@FT</td>\n",
       "      <td>Q</td>\n",
       "      <td>AAPL</td>\n",
       "    </tr>\n",
       "    <tr>\n",
       "      <th>15477542</th>\n",
       "      <td>554.17</td>\n",
       "      <td>200</td>\n",
       "      <td>909</td>\n",
       "      <td>@FT</td>\n",
       "      <td>P</td>\n",
       "      <td>AAPL</td>\n",
       "    </tr>\n",
       "    <tr>\n",
       "      <th>15643058</th>\n",
       "      <td>554.89</td>\n",
       "      <td>100</td>\n",
       "      <td>910</td>\n",
       "      <td>@FT</td>\n",
       "      <td>Q</td>\n",
       "      <td>AAPL</td>\n",
       "    </tr>\n",
       "    <tr>\n",
       "      <th>15689610</th>\n",
       "      <td>554.62</td>\n",
       "      <td>500</td>\n",
       "      <td>911</td>\n",
       "      <td>T</td>\n",
       "      <td>P</td>\n",
       "      <td>AAPL</td>\n",
       "    </tr>\n",
       "  </tbody>\n",
       "</table>\n",
       "</div>"
      ],
      "text/plain": [
       "                        price  volume  sequence_number condition exchange  \\\n",
       "symbol_index tm                                                             \n",
       "13           14781433  556.00       5              906      @ TI        Q   \n",
       "             14833032  555.95     100              907       @FT        Q   \n",
       "             15477542  554.17     200              909       @FT        P   \n",
       "             15643058  554.89     100              910       @FT        Q   \n",
       "             15689610  554.62     500              911         T        P   \n",
       "\n",
       "                      symbol  \n",
       "symbol_index tm               \n",
       "13           14781433   AAPL  \n",
       "             14833032   AAPL  \n",
       "             15477542   AAPL  \n",
       "             15643058   AAPL  \n",
       "             15689610   AAPL  "
      ]
     },
     "execution_count": 64,
     "metadata": {},
     "output_type": "execute_result"
    }
   ],
   "source": [
    "sdb.merge(trades, tkr[tkr == 'AAPL']).\\\n",
    "    limit(5).\\\n",
    "    todataframe()"
   ]
  },
  {
   "cell_type": "code",
   "execution_count": 65,
   "metadata": {
    "collapsed": false,
    "scrolled": true
   },
   "outputs": [
    {
     "data": {
      "text/html": [
       "<div>\n",
       "<table border=\"1\" class=\"dataframe\">\n",
       "  <thead>\n",
       "    <tr style=\"text-align: right;\">\n",
       "      <th></th>\n",
       "      <th></th>\n",
       "      <th>open</th>\n",
       "      <th>high</th>\n",
       "      <th>low</th>\n",
       "      <th>close</th>\n",
       "      <th>symbol</th>\n",
       "    </tr>\n",
       "    <tr>\n",
       "      <th>symbol_index</th>\n",
       "      <th>tm</th>\n",
       "      <th></th>\n",
       "      <th></th>\n",
       "      <th></th>\n",
       "      <th></th>\n",
       "      <th></th>\n",
       "    </tr>\n",
       "  </thead>\n",
       "  <tbody>\n",
       "    <tr>\n",
       "      <th rowspan=\"5\" valign=\"top\">13</th>\n",
       "      <th>298</th>\n",
       "      <td>552.99</td>\n",
       "      <td>552.99</td>\n",
       "      <td>552.99</td>\n",
       "      <td>552.99</td>\n",
       "      <td>AAPL</td>\n",
       "    </tr>\n",
       "    <tr>\n",
       "      <th>312</th>\n",
       "      <td>552.90</td>\n",
       "      <td>552.90</td>\n",
       "      <td>552.90</td>\n",
       "      <td>552.90</td>\n",
       "      <td>AAPL</td>\n",
       "    </tr>\n",
       "    <tr>\n",
       "      <th>329</th>\n",
       "      <td>552.98</td>\n",
       "      <td>553.02</td>\n",
       "      <td>552.98</td>\n",
       "      <td>553.02</td>\n",
       "      <td>AAPL</td>\n",
       "    </tr>\n",
       "    <tr>\n",
       "      <th>335</th>\n",
       "      <td>553.29</td>\n",
       "      <td>553.29</td>\n",
       "      <td>553.05</td>\n",
       "      <td>553.05</td>\n",
       "      <td>AAPL</td>\n",
       "    </tr>\n",
       "    <tr>\n",
       "      <th>352</th>\n",
       "      <td>553.35</td>\n",
       "      <td>553.35</td>\n",
       "      <td>553.21</td>\n",
       "      <td>553.21</td>\n",
       "      <td>AAPL</td>\n",
       "    </tr>\n",
       "  </tbody>\n",
       "</table>\n",
       "</div>"
      ],
      "text/plain": [
       "                    open    high     low   close symbol\n",
       "symbol_index tm                                        \n",
       "13           298  552.99  552.99  552.99  552.99   AAPL\n",
       "             312  552.90  552.90  552.90  552.90   AAPL\n",
       "             329  552.98  553.02  552.98  553.02   AAPL\n",
       "             335  553.29  553.29  553.05  553.05   AAPL\n",
       "             352  553.35  553.35  553.21  553.21   AAPL"
      ]
     },
     "execution_count": 65,
     "metadata": {},
     "output_type": "execute_result"
    }
   ],
   "source": [
    "minute_bars = trades.apply('timeprice', 'tuple(tm,price)')\n",
    "minute_bars = sdb.afl.regrid(minute_bars, 1, 60000,\n",
    "            'axial_first(timeprice) as open',\n",
    "            'max(price) as high',\n",
    "            'min(price) as low',\n",
    "            'axial_last(timeprice) as close'\n",
    "          )\n",
    "minute_bars = minute_bars.eval()\n",
    "\n",
    "sdb.merge(minute_bars, tkr[tkr == 'AAPL']).\\\n",
    "    limit(20).\\\n",
    "    todataframe().tail()"
   ]
  },
  {
   "cell_type": "code",
   "execution_count": 66,
   "metadata": {
    "collapsed": false
   },
   "outputs": [
    {
     "data": {
      "text/html": [
       "<div>\n",
       "<table border=\"1\" class=\"dataframe\">\n",
       "  <thead>\n",
       "    <tr style=\"text-align: right;\">\n",
       "      <th></th>\n",
       "      <th></th>\n",
       "      <th>open</th>\n",
       "      <th>high</th>\n",
       "      <th>low</th>\n",
       "      <th>close</th>\n",
       "    </tr>\n",
       "    <tr>\n",
       "      <th>symbol_index</th>\n",
       "      <th>tm</th>\n",
       "      <th></th>\n",
       "      <th></th>\n",
       "      <th></th>\n",
       "      <th></th>\n",
       "    </tr>\n",
       "  </thead>\n",
       "  <tbody>\n",
       "    <tr>\n",
       "      <th rowspan=\"5\" valign=\"top\">0</th>\n",
       "      <th>585</th>\n",
       "      <td>56.99</td>\n",
       "      <td>57.02</td>\n",
       "      <td>56.875</td>\n",
       "      <td>56.93</td>\n",
       "    </tr>\n",
       "    <tr>\n",
       "      <th>586</th>\n",
       "      <td>56.93</td>\n",
       "      <td>56.99</td>\n",
       "      <td>56.900</td>\n",
       "      <td>56.98</td>\n",
       "    </tr>\n",
       "    <tr>\n",
       "      <th>587</th>\n",
       "      <td>56.99</td>\n",
       "      <td>57.03</td>\n",
       "      <td>56.960</td>\n",
       "      <td>57.00</td>\n",
       "    </tr>\n",
       "    <tr>\n",
       "      <th>588</th>\n",
       "      <td>57.00</td>\n",
       "      <td>57.01</td>\n",
       "      <td>56.980</td>\n",
       "      <td>56.99</td>\n",
       "    </tr>\n",
       "    <tr>\n",
       "      <th>589</th>\n",
       "      <td>56.95</td>\n",
       "      <td>57.00</td>\n",
       "      <td>56.925</td>\n",
       "      <td>56.98</td>\n",
       "    </tr>\n",
       "  </tbody>\n",
       "</table>\n",
       "</div>"
      ],
      "text/plain": [
       "                   open   high     low  close\n",
       "symbol_index tm                              \n",
       "0            585  56.99  57.02  56.875  56.93\n",
       "             586  56.93  56.99  56.900  56.98\n",
       "             587  56.99  57.03  56.960  57.00\n",
       "             588  57.00  57.01  56.980  56.99\n",
       "             589  56.95  57.00  56.925  56.98"
      ]
     },
     "execution_count": 66,
     "metadata": {},
     "output_type": "execute_result"
    }
   ],
   "source": [
    "minute_bars.limit(20).todataframe().tail()"
   ]
  },
  {
   "cell_type": "markdown",
   "metadata": {},
   "source": [
    "Let's pull out one of these minute bar time series for a particuar stock, CVS. We can consult the symbols array to find it's index directly."
   ]
  },
  {
   "cell_type": "code",
   "execution_count": 67,
   "metadata": {
    "collapsed": false
   },
   "outputs": [
    {
     "data": {
      "text/html": [
       "<div>\n",
       "<table border=\"1\" class=\"dataframe\">\n",
       "  <thead>\n",
       "    <tr style=\"text-align: right;\">\n",
       "      <th></th>\n",
       "      <th>symbol</th>\n",
       "    </tr>\n",
       "    <tr>\n",
       "      <th>symbol_index</th>\n",
       "      <th></th>\n",
       "    </tr>\n",
       "  </thead>\n",
       "  <tbody>\n",
       "    <tr>\n",
       "      <th>9</th>\n",
       "      <td>AAN</td>\n",
       "    </tr>\n",
       "  </tbody>\n",
       "</table>\n",
       "</div>"
      ],
      "text/plain": [
       "             symbol\n",
       "symbol_index       \n",
       "9               AAN"
      ]
     },
     "execution_count": 67,
     "metadata": {},
     "output_type": "execute_result"
    }
   ],
   "source": [
    "symbol = 'AAN'\n",
    "tkr[tkr == symbol].todataframe()"
   ]
  },
  {
   "cell_type": "markdown",
   "metadata": {},
   "source": [
    "So this says that symbol index 1612 corresponds to CVS.\n",
    "\n",
    "We can use SciDB's cross_join to avoid an explicit index lookup. We do need to use a repart to bring the symbols array schema into a conformable chunking scheme with the minute_bars array. Only the first 10 minutes of bars are shown below:"
   ]
  },
  {
   "cell_type": "code",
   "execution_count": 68,
   "metadata": {
    "collapsed": false,
    "scrolled": true
   },
   "outputs": [
    {
     "data": {
      "text/html": [
       "<div>\n",
       "<table border=\"1\" class=\"dataframe\">\n",
       "  <thead>\n",
       "    <tr style=\"text-align: right;\">\n",
       "      <th></th>\n",
       "      <th></th>\n",
       "      <th>open</th>\n",
       "      <th>high</th>\n",
       "      <th>low</th>\n",
       "      <th>close</th>\n",
       "      <th>symbol</th>\n",
       "    </tr>\n",
       "    <tr>\n",
       "      <th>symbol_index</th>\n",
       "      <th>tm</th>\n",
       "      <th></th>\n",
       "      <th></th>\n",
       "      <th></th>\n",
       "      <th></th>\n",
       "      <th></th>\n",
       "    </tr>\n",
       "  </thead>\n",
       "  <tbody>\n",
       "    <tr>\n",
       "      <th rowspan=\"5\" valign=\"top\">9</th>\n",
       "      <th>570</th>\n",
       "      <td>28.89</td>\n",
       "      <td>28.97</td>\n",
       "      <td>28.73</td>\n",
       "      <td>28.730</td>\n",
       "      <td>AAN</td>\n",
       "    </tr>\n",
       "    <tr>\n",
       "      <th>571</th>\n",
       "      <td>28.96</td>\n",
       "      <td>28.96</td>\n",
       "      <td>28.87</td>\n",
       "      <td>28.870</td>\n",
       "      <td>AAN</td>\n",
       "    </tr>\n",
       "    <tr>\n",
       "      <th>572</th>\n",
       "      <td>28.80</td>\n",
       "      <td>28.84</td>\n",
       "      <td>28.73</td>\n",
       "      <td>28.815</td>\n",
       "      <td>AAN</td>\n",
       "    </tr>\n",
       "    <tr>\n",
       "      <th>573</th>\n",
       "      <td>28.80</td>\n",
       "      <td>28.80</td>\n",
       "      <td>28.80</td>\n",
       "      <td>28.800</td>\n",
       "      <td>AAN</td>\n",
       "    </tr>\n",
       "    <tr>\n",
       "      <th>574</th>\n",
       "      <td>28.83</td>\n",
       "      <td>28.83</td>\n",
       "      <td>28.73</td>\n",
       "      <td>28.730</td>\n",
       "      <td>AAN</td>\n",
       "    </tr>\n",
       "  </tbody>\n",
       "</table>\n",
       "</div>"
      ],
      "text/plain": [
       "                   open   high    low   close symbol\n",
       "symbol_index tm                                     \n",
       "9            570  28.89  28.97  28.73  28.730    AAN\n",
       "             571  28.96  28.96  28.87  28.870    AAN\n",
       "             572  28.80  28.84  28.73  28.815    AAN\n",
       "             573  28.80  28.80  28.80  28.800    AAN\n",
       "             574  28.83  28.83  28.73  28.730    AAN"
      ]
     },
     "execution_count": 68,
     "metadata": {},
     "output_type": "execute_result"
    }
   ],
   "source": [
    "mb1 = sdb.merge(minute_bars, \n",
    "                tkr[tkr == symbol]).todataframe()\n",
    "mb1.head()"
   ]
  },
  {
   "cell_type": "markdown",
   "metadata": {},
   "source": [
    "Note! That 570 minutes = 9:30 AM."
   ]
  },
  {
   "cell_type": "code",
   "execution_count": 69,
   "metadata": {
    "collapsed": false,
    "scrolled": true
   },
   "outputs": [
    {
     "data": {
      "image/png": "[encoded data removed]",
      "text/plain": [
       "<matplotlib.figure.Figure at 0x7f7492c1b150>"
      ]
     },
     "metadata": {},
     "output_type": "display_data"
    }
   ],
   "source": [
    "%matplotlib inline\n",
    "import matplotlib.pyplot as plt\n",
    "from matplotlib.finance import candlestick_ohlc\n",
    "\n",
    "# Split the dimensions to get the minute co-ordinates\n",
    "l1, l2 = zip(*mb1.index.get_values())\n",
    "# unify into a nparray of tuples for use in candlestick graph\n",
    "q2 = zip(l2, mb1.open, mb1.high, mb1.low, mb1.close)\n",
    "\n",
    "fig, ax = plt.subplots()\n",
    "fig.subplots_adjust(bottom=0.2)\n",
    "fig.suptitle('Minute bars (OHLC): Symbol \\'AAN\\' ', fontsize=14, fontweight='bold')\n",
    "ax.set_xlabel('minutes')\n",
    "ax.set_ylabel('$')\n",
    "\n",
    "candlestick_ohlc(ax, q2[15:30], width=0.6)\n",
    "\n",
    "ax.autoscale_view()\n",
    "plt.setp(plt.gca().get_xticklabels(), rotation=45, horizontalalignment='right')\n",
    "\n",
    "plt.show()"
   ]
  },
  {
   "cell_type": "markdown",
   "metadata": {},
   "source": [
    "## AsOf join\n",
    "\n",
    "The `asof` operator joins trade data with quote data. At time points where quote data is not available, the last known value is looked up and filled in. This is sometimes also called a 'last value carry forward' join or 'piecewise constant interpolation join'.\n",
    "\n",
    "The syntax is:\n",
    "```\n",
    "asof(A, B [, aggrDim [, missingCode]])\n",
    "```\n",
    "\n",
    "where the inputs are:\n",
    "- `A & B`: two arrays that have the same dimensionality;\n",
    "- `aggrDim`: the dimension in A along which to find last_value. Default is the last dimension.\n",
    "- `missingCode`: the missing code to use, when an A record cannot be found. Default is 0.\n",
    "\n",
    "Here is an example that joins trades and quotes for **'BAM'**. We use the fact that we know the symbol index for **BAM** is **615** from the last example. In this example, we only choose the values with dummy dimension of **0** (see comments below)."
   ]
  },
  {
   "cell_type": "code",
   "execution_count": 71,
   "metadata": {
    "collapsed": false,
    "scrolled": true
   },
   "outputs": [
    {
     "data": {
      "text/html": [
       "<div>\n",
       "<table border=\"1\" class=\"dataframe\">\n",
       "  <thead>\n",
       "    <tr style=\"text-align: right;\">\n",
       "      <th></th>\n",
       "      <th>symbol</th>\n",
       "    </tr>\n",
       "    <tr>\n",
       "      <th>symbol_index</th>\n",
       "      <th></th>\n",
       "    </tr>\n",
       "  </thead>\n",
       "  <tbody>\n",
       "    <tr>\n",
       "      <th>9</th>\n",
       "      <td>AAN</td>\n",
       "    </tr>\n",
       "  </tbody>\n",
       "</table>\n",
       "</div>"
      ],
      "text/plain": [
       "             symbol\n",
       "symbol_index       \n",
       "9               AAN"
      ]
     },
     "execution_count": 71,
     "metadata": {},
     "output_type": "execute_result"
    }
   ],
   "source": [
    "symbol = 'AAN'\n",
    "tkr[tkr == symbol].todataframe()"
   ]
  },
  {
   "cell_type": "markdown",
   "metadata": {},
   "source": [
    "Next run some counts for the data for this symbol"
   ]
  },
  {
   "cell_type": "code",
   "execution_count": 73,
   "metadata": {
    "collapsed": false
   },
   "outputs": [
    {
     "name": "stdout",
     "output_type": "stream",
     "text": [
      "Dimensions of trades and quotes arrays:\n",
      "[u'symbol_index', u'tm']\n",
      "\n",
      "# of quotes for symbol = AAN\n",
      "14443\n",
      "\n",
      "# of trades for symbol = AAN\n",
      "4488\n"
     ]
    }
   ],
   "source": [
    "print('Dimensions of trades and quotes arrays:')\n",
    "print(trades.dim_names)\n",
    "print('\\n# of quotes for symbol = %s' % symbol)\n",
    "q1 = quotes.between(9, 'null', 9, 'null')\n",
    "print(q1.nonempty())\n",
    "print('\\n# of trades for symbol = %s' % symbol)\n",
    "t1 = trades.between(9, 'null', 9, 'null')\n",
    "print(t1.nonempty())\n"
   ]
  },
  {
   "cell_type": "markdown",
   "metadata": {},
   "source": [
    "Now note that the dimensions of the `quotes` and `trades` arrays did not have identical chunking in the first place. "
   ]
  },
  {
   "cell_type": "code",
   "execution_count": 74,
   "metadata": {
    "collapsed": false
   },
   "outputs": [
    {
     "name": "stdout",
     "output_type": "stream",
     "text": [
      "[symbol_index=0:*,10,0,tm=0:86399999,86400000,0]\n",
      "[symbol_index=0:*,10,0,tm=0:86399999,86400000,0]\n"
     ]
    }
   ],
   "source": [
    "from re import search\n",
    "print(search('\\[.*\\]', q1.schema).group(0))\n",
    "print(search('\\[.*\\]', t1.schema).group(0))"
   ]
  },
  {
   "cell_type": "markdown",
   "metadata": {},
   "source": [
    "We resolve this by `redimension`-ing the (smaller) trades subarray for selected symbol to the same dimension schema as the `quotes` subarray"
   ]
  },
  {
   "cell_type": "code",
   "execution_count": 15,
   "metadata": {
    "collapsed": false,
    "scrolled": true
   },
   "outputs": [],
   "source": [
    "t2 = t1.redimension(\"<price:double NULL DEFAULT null,volume:int64 NULL DEFAULT null,\\\n",
    "                    sequence_number:int64 NULL DEFAULT null,condition:string NULL DEFAULT null,\\\n",
    "                    exchange:string NULL DEFAULT null> \\\n",
    "                    [dummy=0:999,1000,0,symbol_index=0:*,10,0,ms=0:86399999,86400000,0]\")"
   ]
  },
  {
   "cell_type": "markdown",
   "metadata": {},
   "source": [
    "Next we run the `asof` join and make some simple checks:"
   ]
  },
  {
   "cell_type": "code",
   "execution_count": 75,
   "metadata": {
    "collapsed": false
   },
   "outputs": [],
   "source": [
    "asof1 = quotes.asof(trades)\n",
    "asof1 = asof1.eval()"
   ]
  },
  {
   "cell_type": "code",
   "execution_count": 76,
   "metadata": {
    "collapsed": false,
    "scrolled": false
   },
   "outputs": [
    {
     "data": {
      "text/html": [
       "<div>\n",
       "<table border=\"1\" class=\"dataframe\">\n",
       "  <thead>\n",
       "    <tr style=\"text-align: right;\">\n",
       "      <th></th>\n",
       "      <th></th>\n",
       "      <th>ask_price</th>\n",
       "      <th>ask_size</th>\n",
       "      <th>bid_price</th>\n",
       "      <th>bid_size</th>\n",
       "      <th>price</th>\n",
       "      <th>volume</th>\n",
       "      <th>symbol</th>\n",
       "    </tr>\n",
       "    <tr>\n",
       "      <th>symbol_index</th>\n",
       "      <th>tm</th>\n",
       "      <th></th>\n",
       "      <th></th>\n",
       "      <th></th>\n",
       "      <th></th>\n",
       "      <th></th>\n",
       "      <th></th>\n",
       "      <th></th>\n",
       "    </tr>\n",
       "  </thead>\n",
       "  <tbody>\n",
       "    <tr>\n",
       "      <th rowspan=\"5\" valign=\"top\">9</th>\n",
       "      <th>34261583</th>\n",
       "      <td>28.97</td>\n",
       "      <td>1</td>\n",
       "      <td>28.89</td>\n",
       "      <td>3</td>\n",
       "      <td>28.900</td>\n",
       "      <td>100</td>\n",
       "      <td>AAN</td>\n",
       "    </tr>\n",
       "    <tr>\n",
       "      <th>34275208</th>\n",
       "      <td>28.96</td>\n",
       "      <td>4</td>\n",
       "      <td>28.77</td>\n",
       "      <td>1</td>\n",
       "      <td>28.900</td>\n",
       "      <td>1000</td>\n",
       "      <td>AAN</td>\n",
       "    </tr>\n",
       "    <tr>\n",
       "      <th>34279138</th>\n",
       "      <td>28.99</td>\n",
       "      <td>1</td>\n",
       "      <td>28.91</td>\n",
       "      <td>3</td>\n",
       "      <td>28.910</td>\n",
       "      <td>100</td>\n",
       "      <td>AAN</td>\n",
       "    </tr>\n",
       "    <tr>\n",
       "      <th>34281947</th>\n",
       "      <td>28.94</td>\n",
       "      <td>1</td>\n",
       "      <td>28.85</td>\n",
       "      <td>2</td>\n",
       "      <td>28.910</td>\n",
       "      <td>200</td>\n",
       "      <td>AAN</td>\n",
       "    </tr>\n",
       "    <tr>\n",
       "      <th>34299156</th>\n",
       "      <td>28.91</td>\n",
       "      <td>1</td>\n",
       "      <td>28.88</td>\n",
       "      <td>2</td>\n",
       "      <td>28.895</td>\n",
       "      <td>300</td>\n",
       "      <td>AAN</td>\n",
       "    </tr>\n",
       "  </tbody>\n",
       "</table>\n",
       "</div>"
      ],
      "text/plain": [
       "                       ask_price  ask_size  bid_price  bid_size   price  \\\n",
       "symbol_index tm                                                           \n",
       "9            34261583      28.97         1      28.89         3  28.900   \n",
       "             34275208      28.96         4      28.77         1  28.900   \n",
       "             34279138      28.99         1      28.91         3  28.910   \n",
       "             34281947      28.94         1      28.85         2  28.910   \n",
       "             34299156      28.91         1      28.88         2  28.895   \n",
       "\n",
       "                       volume symbol  \n",
       "symbol_index tm                       \n",
       "9            34261583     100    AAN  \n",
       "             34275208    1000    AAN  \n",
       "             34279138     100    AAN  \n",
       "             34281947     200    AAN  \n",
       "             34299156     300    AAN  "
      ]
     },
     "execution_count": 76,
     "metadata": {},
     "output_type": "execute_result"
    }
   ],
   "source": [
    "print('\\n# of elements in the joined result:')\n",
    "print(asof1.nonempty())\n",
    "print('\\nThe head() of the joined array')\n",
    "sdb.merge(asof1.project('ask_price', 'ask_size', 'bid_price', 'bid_size', 'price', 'volume'), tkr[tkr == 'AAN']).\\\n",
    "    limit(20).\\\n",
    "    todataframe().tail()"
   ]
  },
  {
   "cell_type": "markdown",
   "metadata": {},
   "source": [
    "# RegNMS (Compliance)"
   ]
  },
  {
   "cell_type": "code",
   "execution_count": 78,
   "metadata": {
    "collapsed": false
   },
   "outputs": [
    {
     "data": {
      "text/html": [
       "<div>\n",
       "<table border=\"1\" class=\"dataframe\">\n",
       "  <thead>\n",
       "    <tr style=\"text-align: right;\">\n",
       "      <th></th>\n",
       "      <th></th>\n",
       "      <th>ask_price</th>\n",
       "      <th>ask_size</th>\n",
       "      <th>bid_price</th>\n",
       "      <th>bid_size</th>\n",
       "      <th>price</th>\n",
       "      <th>volume</th>\n",
       "      <th>symbol</th>\n",
       "    </tr>\n",
       "    <tr>\n",
       "      <th>symbol_index</th>\n",
       "      <th>tm</th>\n",
       "      <th></th>\n",
       "      <th></th>\n",
       "      <th></th>\n",
       "      <th></th>\n",
       "      <th></th>\n",
       "      <th></th>\n",
       "      <th></th>\n",
       "    </tr>\n",
       "  </thead>\n",
       "  <tbody>\n",
       "    <tr>\n",
       "      <th rowspan=\"5\" valign=\"top\">9</th>\n",
       "      <th>50542379</th>\n",
       "      <td>0.0</td>\n",
       "      <td>0</td>\n",
       "      <td>28.42</td>\n",
       "      <td>2</td>\n",
       "      <td>28.435</td>\n",
       "      <td>100</td>\n",
       "      <td>AAN</td>\n",
       "    </tr>\n",
       "    <tr>\n",
       "      <th>50543934</th>\n",
       "      <td>0.0</td>\n",
       "      <td>0</td>\n",
       "      <td>28.42</td>\n",
       "      <td>2</td>\n",
       "      <td>28.435</td>\n",
       "      <td>100</td>\n",
       "      <td>AAN</td>\n",
       "    </tr>\n",
       "    <tr>\n",
       "      <th>50548052</th>\n",
       "      <td>0.0</td>\n",
       "      <td>0</td>\n",
       "      <td>28.42</td>\n",
       "      <td>2</td>\n",
       "      <td>28.435</td>\n",
       "      <td>300</td>\n",
       "      <td>AAN</td>\n",
       "    </tr>\n",
       "    <tr>\n",
       "      <th>50564525</th>\n",
       "      <td>0.0</td>\n",
       "      <td>0</td>\n",
       "      <td>28.41</td>\n",
       "      <td>1</td>\n",
       "      <td>28.410</td>\n",
       "      <td>100</td>\n",
       "      <td>AAN</td>\n",
       "    </tr>\n",
       "    <tr>\n",
       "      <th>51689655</th>\n",
       "      <td>0.0</td>\n",
       "      <td>0</td>\n",
       "      <td>28.48</td>\n",
       "      <td>3</td>\n",
       "      <td>28.480</td>\n",
       "      <td>300</td>\n",
       "      <td>AAN</td>\n",
       "    </tr>\n",
       "  </tbody>\n",
       "</table>\n",
       "</div>"
      ],
      "text/plain": [
       "                       ask_price  ask_size  bid_price  bid_size   price  \\\n",
       "symbol_index tm                                                           \n",
       "9            50542379        0.0         0      28.42         2  28.435   \n",
       "             50543934        0.0         0      28.42         2  28.435   \n",
       "             50548052        0.0         0      28.42         2  28.435   \n",
       "             50564525        0.0         0      28.41         1  28.410   \n",
       "             51689655        0.0         0      28.48         3  28.480   \n",
       "\n",
       "                       volume symbol  \n",
       "symbol_index tm                       \n",
       "9            50542379     100    AAN  \n",
       "             50543934     100    AAN  \n",
       "             50548052     300    AAN  \n",
       "             50564525     100    AAN  \n",
       "             51689655     300    AAN  "
      ]
     },
     "execution_count": 78,
     "metadata": {},
     "output_type": "execute_result"
    }
   ],
   "source": [
    "sdb.merge(asof1.filter('ask_price < bid_price').project('ask_price', 'ask_size', 'bid_price', 'bid_size', 'price', 'volume'), tkr[tkr=='AAN']).\\\n",
    "    limit(5).\\\n",
    "    todataframe()"
   ]
  }
 ],
 "metadata": {
  "kernelspec": {
   "display_name": "Python 2",
   "language": "python",
   "name": "python2"
  },
  "language_info": {
   "codemirror_mode": {
    "name": "ipython",
    "version": 2
   },
   "file_extension": ".py",
   "mimetype": "text/x-python",
   "name": "python",
   "nbconvert_exporter": "python",
   "pygments_lexer": "ipython2",
   "version": "2.7.11"
  }
 },
 "nbformat": 4,
 "nbformat_minor": 0
}
